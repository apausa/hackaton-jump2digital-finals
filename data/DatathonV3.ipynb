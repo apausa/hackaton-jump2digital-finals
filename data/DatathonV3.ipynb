{
 "cells": [
  {
   "cell_type": "markdown",
   "id": "82e33311",
   "metadata": {},
   "source": [
    "Datasets:\n",
    "\n",
    "Variables del dataset:\n",
    "\n",
    "- id: ID de la solicitud\n",
    "\n",
    "- amount: Cantidad solicitada.\n",
    "\n",
    "- status: Estado de la solicitud.\n",
    "\n",
    "- created_at: Fecha de creación de la solucitud.\n",
    "\n",
    "- user_id: ID del usuario que ha realizado la solicitud.\n",
    "\n",
    "- money_back_date: Fecha en la que el usuario ha devuelto el dinero.\n",
    "\n",
    "- transfer_type: Tipo de transferencia.\n",
    "- send_at: Fecha en la que NUWE CASH envia el dinero al usuario.\n",
    "\n"
   ]
  },
  {
   "cell_type": "markdown",
   "id": "fed90c55",
   "metadata": {},
   "source": [
    "Se debe realizar un analisis exploratorio de los datos que permita conocer los siguientes insights:\n",
    "\n",
    "- Número de nuevos usarios por mes.\n",
    "- Dinero total solicitado cada mes.\n",
    "- Dinero medio solicitado por cada usuario al mes.\n",
    "- Porcentaje de las solicitudes que son aceptadas cada mes.\n",
    "- Número de solicitudes al mes que son aceptadas pero NO son devueltas.\n",
    "- Número de solicitudes al mes que son aceptadas y SÍ son devueltas.\n",
    "- Tiempo medio en devolver un préstamo (MM:DD:HH).\n",
    "- Cantidad de dinero que se presta cada mes.\n",
    "- Predecir la cantidad de dinero que se solicitara en Octubre."
   ]
  },
  {
   "cell_type": "code",
   "execution_count": 258,
   "id": "8cad2b61",
   "metadata": {},
   "outputs": [],
   "source": [
    "import pandas as pd\n",
    "from datetime import datetime\n"
   ]
  },
  {
   "cell_type": "code",
   "execution_count": 259,
   "id": "b74a618b",
   "metadata": {},
   "outputs": [],
   "source": [
    "URL='https://challenges-asset-files.s3.us-east-2.amazonaws.com/data_sets/Data-Science/4+-+events/jump2digital/presencial/dataset/J2D_train.csv'"
   ]
  },
  {
   "cell_type": "code",
   "execution_count": 563,
   "id": "8b536923",
   "metadata": {},
   "outputs": [],
   "source": [
    "df= pd.read_csv(URL)"
   ]
  },
  {
   "cell_type": "code",
   "execution_count": 261,
   "id": "1c59aba0",
   "metadata": {},
   "outputs": [
    {
     "data": {
      "text/html": [
       "<div>\n",
       "<style scoped>\n",
       "    .dataframe tbody tr th:only-of-type {\n",
       "        vertical-align: middle;\n",
       "    }\n",
       "\n",
       "    .dataframe tbody tr th {\n",
       "        vertical-align: top;\n",
       "    }\n",
       "\n",
       "    .dataframe thead th {\n",
       "        text-align: right;\n",
       "    }\n",
       "</style>\n",
       "<table border=\"1\" class=\"dataframe\">\n",
       "  <thead>\n",
       "    <tr style=\"text-align: right;\">\n",
       "      <th></th>\n",
       "      <th>id</th>\n",
       "      <th>amount</th>\n",
       "      <th>status</th>\n",
       "      <th>created_at</th>\n",
       "      <th>user_id</th>\n",
       "      <th>money_back_date</th>\n",
       "      <th>transfer_type</th>\n",
       "      <th>send_at</th>\n",
       "    </tr>\n",
       "  </thead>\n",
       "  <tbody>\n",
       "    <tr>\n",
       "      <th>0</th>\n",
       "      <td>4405</td>\n",
       "      <td>100.0</td>\n",
       "      <td>rejected</td>\n",
       "      <td>2020-06-20 16:46:28.409042+00</td>\n",
       "      <td>14799.0</td>\n",
       "      <td>NaN</td>\n",
       "      <td>regular</td>\n",
       "      <td>NaN</td>\n",
       "    </tr>\n",
       "    <tr>\n",
       "      <th>1</th>\n",
       "      <td>13107</td>\n",
       "      <td>100.0</td>\n",
       "      <td>approved</td>\n",
       "      <td>2020-08-19 16:20:22.768375+00</td>\n",
       "      <td>8020.0</td>\n",
       "      <td>2020-09-24 22:23:28.213168+00</td>\n",
       "      <td>regular</td>\n",
       "      <td>2020-08-26 16:20:22.631568+00</td>\n",
       "    </tr>\n",
       "    <tr>\n",
       "      <th>2</th>\n",
       "      <td>11984</td>\n",
       "      <td>50.0</td>\n",
       "      <td>approved</td>\n",
       "      <td>2020-08-11 13:23:12.220906+00</td>\n",
       "      <td>27793.0</td>\n",
       "      <td>2020-11-19 23:00:00+00</td>\n",
       "      <td>instant</td>\n",
       "      <td>2020-08-18 13:23:12.220516+00</td>\n",
       "    </tr>\n",
       "    <tr>\n",
       "      <th>3</th>\n",
       "      <td>11322</td>\n",
       "      <td>50.0</td>\n",
       "      <td>approved</td>\n",
       "      <td>2020-08-07 11:01:30.51934+00</td>\n",
       "      <td>15409.0</td>\n",
       "      <td>2020-08-29 22:12:23.812361+00</td>\n",
       "      <td>instant</td>\n",
       "      <td>2020-08-14 11:01:30.518974+00</td>\n",
       "    </tr>\n",
       "    <tr>\n",
       "      <th>4</th>\n",
       "      <td>16755</td>\n",
       "      <td>50.0</td>\n",
       "      <td>rejected</td>\n",
       "      <td>2020-09-18 13:08:34.789948+00</td>\n",
       "      <td>39701.0</td>\n",
       "      <td>NaN</td>\n",
       "      <td>regular</td>\n",
       "      <td>2020-09-25 13:08:34.765418+00</td>\n",
       "    </tr>\n",
       "    <tr>\n",
       "      <th>...</th>\n",
       "      <td>...</td>\n",
       "      <td>...</td>\n",
       "      <td>...</td>\n",
       "      <td>...</td>\n",
       "      <td>...</td>\n",
       "      <td>...</td>\n",
       "      <td>...</td>\n",
       "      <td>...</td>\n",
       "    </tr>\n",
       "    <tr>\n",
       "      <th>16100</th>\n",
       "      <td>13302</td>\n",
       "      <td>100.0</td>\n",
       "      <td>rejected</td>\n",
       "      <td>2020-08-20 07:23:33.760027+00</td>\n",
       "      <td>29247.0</td>\n",
       "      <td>NaN</td>\n",
       "      <td>instant</td>\n",
       "      <td>2020-08-27 07:23:33.735377+00</td>\n",
       "    </tr>\n",
       "    <tr>\n",
       "      <th>16101</th>\n",
       "      <td>13710</td>\n",
       "      <td>100.0</td>\n",
       "      <td>rejected</td>\n",
       "      <td>2020-08-24 00:33:58.853099+00</td>\n",
       "      <td>NaN</td>\n",
       "      <td>NaN</td>\n",
       "      <td>instant</td>\n",
       "      <td>2020-08-31 00:33:58.824223+00</td>\n",
       "    </tr>\n",
       "    <tr>\n",
       "      <th>16102</th>\n",
       "      <td>1522</td>\n",
       "      <td>100.0</td>\n",
       "      <td>approved</td>\n",
       "      <td>2020-05-02 08:54:49.586739+00</td>\n",
       "      <td>2562.0</td>\n",
       "      <td>2020-06-13 00:16:39.223405+00</td>\n",
       "      <td>regular</td>\n",
       "      <td>NaN</td>\n",
       "    </tr>\n",
       "    <tr>\n",
       "      <th>16103</th>\n",
       "      <td>7153</td>\n",
       "      <td>100.0</td>\n",
       "      <td>rejected</td>\n",
       "      <td>2020-07-08 12:56:16.163418+00</td>\n",
       "      <td>NaN</td>\n",
       "      <td>NaN</td>\n",
       "      <td>regular</td>\n",
       "      <td>NaN</td>\n",
       "    </tr>\n",
       "    <tr>\n",
       "      <th>16104</th>\n",
       "      <td>5054</td>\n",
       "      <td>100.0</td>\n",
       "      <td>rejected</td>\n",
       "      <td>2020-06-24 22:21:42.100489+00</td>\n",
       "      <td>13483.0</td>\n",
       "      <td>NaN</td>\n",
       "      <td>regular</td>\n",
       "      <td>NaN</td>\n",
       "    </tr>\n",
       "  </tbody>\n",
       "</table>\n",
       "<p>16105 rows × 8 columns</p>\n",
       "</div>"
      ],
      "text/plain": [
       "          id  amount    status                     created_at  user_id  \\\n",
       "0       4405   100.0  rejected  2020-06-20 16:46:28.409042+00  14799.0   \n",
       "1      13107   100.0  approved  2020-08-19 16:20:22.768375+00   8020.0   \n",
       "2      11984    50.0  approved  2020-08-11 13:23:12.220906+00  27793.0   \n",
       "3      11322    50.0  approved   2020-08-07 11:01:30.51934+00  15409.0   \n",
       "4      16755    50.0  rejected  2020-09-18 13:08:34.789948+00  39701.0   \n",
       "...      ...     ...       ...                            ...      ...   \n",
       "16100  13302   100.0  rejected  2020-08-20 07:23:33.760027+00  29247.0   \n",
       "16101  13710   100.0  rejected  2020-08-24 00:33:58.853099+00      NaN   \n",
       "16102   1522   100.0  approved  2020-05-02 08:54:49.586739+00   2562.0   \n",
       "16103   7153   100.0  rejected  2020-07-08 12:56:16.163418+00      NaN   \n",
       "16104   5054   100.0  rejected  2020-06-24 22:21:42.100489+00  13483.0   \n",
       "\n",
       "                     money_back_date transfer_type  \\\n",
       "0                                NaN       regular   \n",
       "1      2020-09-24 22:23:28.213168+00       regular   \n",
       "2             2020-11-19 23:00:00+00       instant   \n",
       "3      2020-08-29 22:12:23.812361+00       instant   \n",
       "4                                NaN       regular   \n",
       "...                              ...           ...   \n",
       "16100                            NaN       instant   \n",
       "16101                            NaN       instant   \n",
       "16102  2020-06-13 00:16:39.223405+00       regular   \n",
       "16103                            NaN       regular   \n",
       "16104                            NaN       regular   \n",
       "\n",
       "                             send_at  \n",
       "0                                NaN  \n",
       "1      2020-08-26 16:20:22.631568+00  \n",
       "2      2020-08-18 13:23:12.220516+00  \n",
       "3      2020-08-14 11:01:30.518974+00  \n",
       "4      2020-09-25 13:08:34.765418+00  \n",
       "...                              ...  \n",
       "16100  2020-08-27 07:23:33.735377+00  \n",
       "16101  2020-08-31 00:33:58.824223+00  \n",
       "16102                            NaN  \n",
       "16103                            NaN  \n",
       "16104                            NaN  \n",
       "\n",
       "[16105 rows x 8 columns]"
      ]
     },
     "execution_count": 261,
     "metadata": {},
     "output_type": "execute_result"
    }
   ],
   "source": [
    "df"
   ]
  },
  {
   "cell_type": "code",
   "execution_count": 262,
   "id": "e275e348",
   "metadata": {},
   "outputs": [
    {
     "name": "stdout",
     "output_type": "stream",
     "text": [
      "<class 'pandas.core.frame.DataFrame'>\n",
      "RangeIndex: 16105 entries, 0 to 16104\n",
      "Data columns (total 8 columns):\n",
      " #   Column           Non-Null Count  Dtype  \n",
      "---  ------           --------------  -----  \n",
      " 0   id               16105 non-null  int64  \n",
      " 1   amount           16105 non-null  float64\n",
      " 2   status           16105 non-null  object \n",
      " 3   created_at       16105 non-null  object \n",
      " 4   user_id          14218 non-null  float64\n",
      " 5   money_back_date  9498 non-null   object \n",
      " 6   transfer_type    16105 non-null  object \n",
      " 7   send_at          8776 non-null   object \n",
      "dtypes: float64(2), int64(1), object(5)\n",
      "memory usage: 1006.7+ KB\n"
     ]
    }
   ],
   "source": [
    "df.info()"
   ]
  },
  {
   "cell_type": "code",
   "execution_count": 263,
   "id": "d0540080",
   "metadata": {},
   "outputs": [
    {
     "data": {
      "text/html": [
       "<div>\n",
       "<style scoped>\n",
       "    .dataframe tbody tr th:only-of-type {\n",
       "        vertical-align: middle;\n",
       "    }\n",
       "\n",
       "    .dataframe tbody tr th {\n",
       "        vertical-align: top;\n",
       "    }\n",
       "\n",
       "    .dataframe thead th {\n",
       "        text-align: right;\n",
       "    }\n",
       "</style>\n",
       "<table border=\"1\" class=\"dataframe\">\n",
       "  <thead>\n",
       "    <tr style=\"text-align: right;\">\n",
       "      <th></th>\n",
       "      <th>id</th>\n",
       "      <th>amount</th>\n",
       "      <th>user_id</th>\n",
       "    </tr>\n",
       "  </thead>\n",
       "  <tbody>\n",
       "    <tr>\n",
       "      <th>count</th>\n",
       "      <td>16105.000000</td>\n",
       "      <td>16105.000000</td>\n",
       "      <td>14218.000000</td>\n",
       "    </tr>\n",
       "    <tr>\n",
       "      <th>mean</th>\n",
       "      <td>9577.939770</td>\n",
       "      <td>87.722384</td>\n",
       "      <td>19328.963075</td>\n",
       "    </tr>\n",
       "    <tr>\n",
       "      <th>std</th>\n",
       "      <td>5495.677337</td>\n",
       "      <td>22.546287</td>\n",
       "      <td>13770.497673</td>\n",
       "    </tr>\n",
       "    <tr>\n",
       "      <th>min</th>\n",
       "      <td>3.000000</td>\n",
       "      <td>1.000000</td>\n",
       "      <td>34.000000</td>\n",
       "    </tr>\n",
       "    <tr>\n",
       "      <th>25%</th>\n",
       "      <td>4614.000000</td>\n",
       "      <td>80.000000</td>\n",
       "      <td>8074.000000</td>\n",
       "    </tr>\n",
       "    <tr>\n",
       "      <th>50%</th>\n",
       "      <td>9937.000000</td>\n",
       "      <td>100.000000</td>\n",
       "      <td>17029.500000</td>\n",
       "    </tr>\n",
       "    <tr>\n",
       "      <th>75%</th>\n",
       "      <td>14369.000000</td>\n",
       "      <td>100.000000</td>\n",
       "      <td>29726.500000</td>\n",
       "    </tr>\n",
       "    <tr>\n",
       "      <th>max</th>\n",
       "      <td>18614.000000</td>\n",
       "      <td>200.000000</td>\n",
       "      <td>57362.000000</td>\n",
       "    </tr>\n",
       "  </tbody>\n",
       "</table>\n",
       "</div>"
      ],
      "text/plain": [
       "                 id        amount       user_id\n",
       "count  16105.000000  16105.000000  14218.000000\n",
       "mean    9577.939770     87.722384  19328.963075\n",
       "std     5495.677337     22.546287  13770.497673\n",
       "min        3.000000      1.000000     34.000000\n",
       "25%     4614.000000     80.000000   8074.000000\n",
       "50%     9937.000000    100.000000  17029.500000\n",
       "75%    14369.000000    100.000000  29726.500000\n",
       "max    18614.000000    200.000000  57362.000000"
      ]
     },
     "execution_count": 263,
     "metadata": {},
     "output_type": "execute_result"
    }
   ],
   "source": [
    " df.describe()"
   ]
  },
  {
   "cell_type": "code",
   "execution_count": 264,
   "id": "5b1f8015",
   "metadata": {},
   "outputs": [
    {
     "data": {
      "text/plain": [
       "id                    0\n",
       "amount                0\n",
       "status                0\n",
       "created_at            0\n",
       "user_id            1887\n",
       "money_back_date    6607\n",
       "transfer_type         0\n",
       "send_at            7329\n",
       "dtype: int64"
      ]
     },
     "execution_count": 264,
     "metadata": {},
     "output_type": "execute_result"
    }
   ],
   "source": [
    "df.isnull().sum()"
   ]
  },
  {
   "cell_type": "code",
   "execution_count": 567,
   "id": "15a850b0",
   "metadata": {},
   "outputs": [],
   "source": [
    "df['date']= pd.to_datetime(df['created_at'])"
   ]
  },
  {
   "cell_type": "code",
   "execution_count": 266,
   "id": "5b5fbe40",
   "metadata": {},
   "outputs": [],
   "source": [
    "df['year']=df['date'].dt.year"
   ]
  },
  {
   "cell_type": "code",
   "execution_count": 267,
   "id": "000ba545",
   "metadata": {},
   "outputs": [],
   "source": [
    "df['month']=df['date'].dt.month"
   ]
  },
  {
   "cell_type": "code",
   "execution_count": 270,
   "id": "2bda2d2d",
   "metadata": {},
   "outputs": [
    {
     "data": {
      "text/html": [
       "<div>\n",
       "<style scoped>\n",
       "    .dataframe tbody tr th:only-of-type {\n",
       "        vertical-align: middle;\n",
       "    }\n",
       "\n",
       "    .dataframe tbody tr th {\n",
       "        vertical-align: top;\n",
       "    }\n",
       "\n",
       "    .dataframe thead th {\n",
       "        text-align: right;\n",
       "    }\n",
       "</style>\n",
       "<table border=\"1\" class=\"dataframe\">\n",
       "  <thead>\n",
       "    <tr style=\"text-align: right;\">\n",
       "      <th></th>\n",
       "      <th>id</th>\n",
       "      <th>amount</th>\n",
       "      <th>status</th>\n",
       "      <th>created_at</th>\n",
       "      <th>user_id</th>\n",
       "      <th>money_back_date</th>\n",
       "      <th>transfer_type</th>\n",
       "      <th>send_at</th>\n",
       "      <th>date</th>\n",
       "      <th>year</th>\n",
       "      <th>month</th>\n",
       "    </tr>\n",
       "  </thead>\n",
       "  <tbody>\n",
       "    <tr>\n",
       "      <th>0</th>\n",
       "      <td>4405</td>\n",
       "      <td>100.0</td>\n",
       "      <td>rejected</td>\n",
       "      <td>2020-06-20 16:46:28.409042+00</td>\n",
       "      <td>14799.0</td>\n",
       "      <td>NaN</td>\n",
       "      <td>regular</td>\n",
       "      <td>NaN</td>\n",
       "      <td>2020-06-20 16:46:28.409042+00:00</td>\n",
       "      <td>2020</td>\n",
       "      <td>6</td>\n",
       "    </tr>\n",
       "    <tr>\n",
       "      <th>1</th>\n",
       "      <td>13107</td>\n",
       "      <td>100.0</td>\n",
       "      <td>approved</td>\n",
       "      <td>2020-08-19 16:20:22.768375+00</td>\n",
       "      <td>8020.0</td>\n",
       "      <td>2020-09-24 22:23:28.213168+00</td>\n",
       "      <td>regular</td>\n",
       "      <td>2020-08-26 16:20:22.631568+00</td>\n",
       "      <td>2020-08-19 16:20:22.768375+00:00</td>\n",
       "      <td>2020</td>\n",
       "      <td>8</td>\n",
       "    </tr>\n",
       "    <tr>\n",
       "      <th>2</th>\n",
       "      <td>11984</td>\n",
       "      <td>50.0</td>\n",
       "      <td>approved</td>\n",
       "      <td>2020-08-11 13:23:12.220906+00</td>\n",
       "      <td>27793.0</td>\n",
       "      <td>2020-11-19 23:00:00+00</td>\n",
       "      <td>instant</td>\n",
       "      <td>2020-08-18 13:23:12.220516+00</td>\n",
       "      <td>2020-08-11 13:23:12.220906+00:00</td>\n",
       "      <td>2020</td>\n",
       "      <td>8</td>\n",
       "    </tr>\n",
       "    <tr>\n",
       "      <th>3</th>\n",
       "      <td>11322</td>\n",
       "      <td>50.0</td>\n",
       "      <td>approved</td>\n",
       "      <td>2020-08-07 11:01:30.51934+00</td>\n",
       "      <td>15409.0</td>\n",
       "      <td>2020-08-29 22:12:23.812361+00</td>\n",
       "      <td>instant</td>\n",
       "      <td>2020-08-14 11:01:30.518974+00</td>\n",
       "      <td>2020-08-07 11:01:30.519340+00:00</td>\n",
       "      <td>2020</td>\n",
       "      <td>8</td>\n",
       "    </tr>\n",
       "    <tr>\n",
       "      <th>4</th>\n",
       "      <td>16755</td>\n",
       "      <td>50.0</td>\n",
       "      <td>rejected</td>\n",
       "      <td>2020-09-18 13:08:34.789948+00</td>\n",
       "      <td>39701.0</td>\n",
       "      <td>NaN</td>\n",
       "      <td>regular</td>\n",
       "      <td>2020-09-25 13:08:34.765418+00</td>\n",
       "      <td>2020-09-18 13:08:34.789948+00:00</td>\n",
       "      <td>2020</td>\n",
       "      <td>9</td>\n",
       "    </tr>\n",
       "    <tr>\n",
       "      <th>...</th>\n",
       "      <td>...</td>\n",
       "      <td>...</td>\n",
       "      <td>...</td>\n",
       "      <td>...</td>\n",
       "      <td>...</td>\n",
       "      <td>...</td>\n",
       "      <td>...</td>\n",
       "      <td>...</td>\n",
       "      <td>...</td>\n",
       "      <td>...</td>\n",
       "      <td>...</td>\n",
       "    </tr>\n",
       "    <tr>\n",
       "      <th>16100</th>\n",
       "      <td>13302</td>\n",
       "      <td>100.0</td>\n",
       "      <td>rejected</td>\n",
       "      <td>2020-08-20 07:23:33.760027+00</td>\n",
       "      <td>29247.0</td>\n",
       "      <td>NaN</td>\n",
       "      <td>instant</td>\n",
       "      <td>2020-08-27 07:23:33.735377+00</td>\n",
       "      <td>2020-08-20 07:23:33.760027+00:00</td>\n",
       "      <td>2020</td>\n",
       "      <td>8</td>\n",
       "    </tr>\n",
       "    <tr>\n",
       "      <th>16101</th>\n",
       "      <td>13710</td>\n",
       "      <td>100.0</td>\n",
       "      <td>rejected</td>\n",
       "      <td>2020-08-24 00:33:58.853099+00</td>\n",
       "      <td>NaN</td>\n",
       "      <td>NaN</td>\n",
       "      <td>instant</td>\n",
       "      <td>2020-08-31 00:33:58.824223+00</td>\n",
       "      <td>2020-08-24 00:33:58.853099+00:00</td>\n",
       "      <td>2020</td>\n",
       "      <td>8</td>\n",
       "    </tr>\n",
       "    <tr>\n",
       "      <th>16102</th>\n",
       "      <td>1522</td>\n",
       "      <td>100.0</td>\n",
       "      <td>approved</td>\n",
       "      <td>2020-05-02 08:54:49.586739+00</td>\n",
       "      <td>2562.0</td>\n",
       "      <td>2020-06-13 00:16:39.223405+00</td>\n",
       "      <td>regular</td>\n",
       "      <td>NaN</td>\n",
       "      <td>2020-05-02 08:54:49.586739+00:00</td>\n",
       "      <td>2020</td>\n",
       "      <td>5</td>\n",
       "    </tr>\n",
       "    <tr>\n",
       "      <th>16103</th>\n",
       "      <td>7153</td>\n",
       "      <td>100.0</td>\n",
       "      <td>rejected</td>\n",
       "      <td>2020-07-08 12:56:16.163418+00</td>\n",
       "      <td>NaN</td>\n",
       "      <td>NaN</td>\n",
       "      <td>regular</td>\n",
       "      <td>NaN</td>\n",
       "      <td>2020-07-08 12:56:16.163418+00:00</td>\n",
       "      <td>2020</td>\n",
       "      <td>7</td>\n",
       "    </tr>\n",
       "    <tr>\n",
       "      <th>16104</th>\n",
       "      <td>5054</td>\n",
       "      <td>100.0</td>\n",
       "      <td>rejected</td>\n",
       "      <td>2020-06-24 22:21:42.100489+00</td>\n",
       "      <td>13483.0</td>\n",
       "      <td>NaN</td>\n",
       "      <td>regular</td>\n",
       "      <td>NaN</td>\n",
       "      <td>2020-06-24 22:21:42.100489+00:00</td>\n",
       "      <td>2020</td>\n",
       "      <td>6</td>\n",
       "    </tr>\n",
       "  </tbody>\n",
       "</table>\n",
       "<p>16105 rows × 11 columns</p>\n",
       "</div>"
      ],
      "text/plain": [
       "          id  amount    status                     created_at  user_id  \\\n",
       "0       4405   100.0  rejected  2020-06-20 16:46:28.409042+00  14799.0   \n",
       "1      13107   100.0  approved  2020-08-19 16:20:22.768375+00   8020.0   \n",
       "2      11984    50.0  approved  2020-08-11 13:23:12.220906+00  27793.0   \n",
       "3      11322    50.0  approved   2020-08-07 11:01:30.51934+00  15409.0   \n",
       "4      16755    50.0  rejected  2020-09-18 13:08:34.789948+00  39701.0   \n",
       "...      ...     ...       ...                            ...      ...   \n",
       "16100  13302   100.0  rejected  2020-08-20 07:23:33.760027+00  29247.0   \n",
       "16101  13710   100.0  rejected  2020-08-24 00:33:58.853099+00      NaN   \n",
       "16102   1522   100.0  approved  2020-05-02 08:54:49.586739+00   2562.0   \n",
       "16103   7153   100.0  rejected  2020-07-08 12:56:16.163418+00      NaN   \n",
       "16104   5054   100.0  rejected  2020-06-24 22:21:42.100489+00  13483.0   \n",
       "\n",
       "                     money_back_date transfer_type  \\\n",
       "0                                NaN       regular   \n",
       "1      2020-09-24 22:23:28.213168+00       regular   \n",
       "2             2020-11-19 23:00:00+00       instant   \n",
       "3      2020-08-29 22:12:23.812361+00       instant   \n",
       "4                                NaN       regular   \n",
       "...                              ...           ...   \n",
       "16100                            NaN       instant   \n",
       "16101                            NaN       instant   \n",
       "16102  2020-06-13 00:16:39.223405+00       regular   \n",
       "16103                            NaN       regular   \n",
       "16104                            NaN       regular   \n",
       "\n",
       "                             send_at                             date  year  \\\n",
       "0                                NaN 2020-06-20 16:46:28.409042+00:00  2020   \n",
       "1      2020-08-26 16:20:22.631568+00 2020-08-19 16:20:22.768375+00:00  2020   \n",
       "2      2020-08-18 13:23:12.220516+00 2020-08-11 13:23:12.220906+00:00  2020   \n",
       "3      2020-08-14 11:01:30.518974+00 2020-08-07 11:01:30.519340+00:00  2020   \n",
       "4      2020-09-25 13:08:34.765418+00 2020-09-18 13:08:34.789948+00:00  2020   \n",
       "...                              ...                              ...   ...   \n",
       "16100  2020-08-27 07:23:33.735377+00 2020-08-20 07:23:33.760027+00:00  2020   \n",
       "16101  2020-08-31 00:33:58.824223+00 2020-08-24 00:33:58.853099+00:00  2020   \n",
       "16102                            NaN 2020-05-02 08:54:49.586739+00:00  2020   \n",
       "16103                            NaN 2020-07-08 12:56:16.163418+00:00  2020   \n",
       "16104                            NaN 2020-06-24 22:21:42.100489+00:00  2020   \n",
       "\n",
       "       month  \n",
       "0          6  \n",
       "1          8  \n",
       "2          8  \n",
       "3          8  \n",
       "4          9  \n",
       "...      ...  \n",
       "16100      8  \n",
       "16101      8  \n",
       "16102      5  \n",
       "16103      7  \n",
       "16104      6  \n",
       "\n",
       "[16105 rows x 11 columns]"
      ]
     },
     "execution_count": 270,
     "metadata": {},
     "output_type": "execute_result"
    }
   ],
   "source": [
    "df"
   ]
  },
  {
   "cell_type": "code",
   "execution_count": 271,
   "id": "2b76cbbb",
   "metadata": {},
   "outputs": [
    {
     "data": {
      "text/plain": [
       "year  month\n",
       "2019  11          1\n",
       "      12        289\n",
       "2020  1         223\n",
       "      2         184\n",
       "      3         244\n",
       "      4         473\n",
       "      5         837\n",
       "      6        2615\n",
       "      7        3601\n",
       "      8        3417\n",
       "      9        4221\n",
       "Name: id, dtype: int64"
      ]
     },
     "execution_count": 271,
     "metadata": {},
     "output_type": "execute_result"
    }
   ],
   "source": [
    "df.groupby(['year','month'])['id'].count()"
   ]
  },
  {
   "cell_type": "code",
   "execution_count": 272,
   "id": "c06d8f38",
   "metadata": {},
   "outputs": [
    {
     "data": {
      "text/plain": [
       "Series([], Name: user_id, dtype: int64)"
      ]
     },
     "execution_count": 272,
     "metadata": {},
     "output_type": "execute_result"
    }
   ],
   "source": [
    "df[df.isnull()].groupby(['year','month'])['user_id'].count()"
   ]
  },
  {
   "cell_type": "markdown",
   "id": "1be35bc1",
   "metadata": {},
   "source": [
    "# Q1: Numero nuevos usuarios"
   ]
  },
  {
   "cell_type": "code",
   "execution_count": null,
   "id": "8edb60ce",
   "metadata": {},
   "outputs": [],
   "source": []
  },
  {
   "cell_type": "code",
   "execution_count": 274,
   "id": "401cc42c",
   "metadata": {},
   "outputs": [],
   "source": [
    "df_nn = df.loc[~df['user_id'].isnull()].copy()"
   ]
  },
  {
   "cell_type": "code",
   "execution_count": 275,
   "id": "0afd71ac",
   "metadata": {},
   "outputs": [],
   "source": [
    "df_wn = df.loc[df['user_id'].isnull()].copy()"
   ]
  },
  {
   "cell_type": "code",
   "execution_count": 276,
   "id": "816c650d",
   "metadata": {},
   "outputs": [],
   "source": [
    "df_nn_ordered=df_nn.sort_values(by='date')\n"
   ]
  },
  {
   "cell_type": "code",
   "execution_count": 277,
   "id": "2a17f720",
   "metadata": {},
   "outputs": [],
   "source": [
    "newclientbymonth=df_nn_ordered.groupby('user_id').first().groupby(['year','month']).count()['id']"
   ]
  },
  {
   "cell_type": "code",
   "execution_count": 278,
   "id": "99cc5a03",
   "metadata": {},
   "outputs": [
    {
     "data": {
      "text/plain": [
       "year  month\n",
       "2019  11          1\n",
       "      12        204\n",
       "2020  1          90\n",
       "      2          84\n",
       "      3          69\n",
       "      4         212\n",
       "      5         369\n",
       "      6        1338\n",
       "      7        1294\n",
       "      8         656\n",
       "      9        1712\n",
       "Name: id, dtype: int64"
      ]
     },
     "execution_count": 278,
     "metadata": {},
     "output_type": "execute_result"
    }
   ],
   "source": [
    "newclientbymonth"
   ]
  },
  {
   "cell_type": "markdown",
   "id": "ddb39fc0",
   "metadata": {},
   "source": [
    "# Dinero total solicitato "
   ]
  },
  {
   "cell_type": "code",
   "execution_count": 279,
   "id": "d40d1935",
   "metadata": {},
   "outputs": [
    {
     "data": {
      "text/plain": [
       "2049     1\n",
       "16440    1\n",
       "10469    1\n",
       "14359    1\n",
       "8196     1\n",
       "        ..\n",
       "2031     1\n",
       "14329    1\n",
       "12282    1\n",
       "6109     1\n",
       "2047     1\n",
       "Name: id, Length: 14218, dtype: int64"
      ]
     },
     "execution_count": 279,
     "metadata": {},
     "output_type": "execute_result"
    }
   ],
   "source": [
    "df_nn['id'].value_counts().sort_values()"
   ]
  },
  {
   "cell_type": "code",
   "execution_count": 280,
   "id": "b5d2bf0e",
   "metadata": {},
   "outputs": [],
   "source": [
    "TotalSum=df['amount'].sum()"
   ]
  },
  {
   "cell_type": "code",
   "execution_count": 281,
   "id": "700ca0b2",
   "metadata": {},
   "outputs": [
    {
     "data": {
      "text/plain": [
       "1412769.0"
      ]
     },
     "execution_count": 281,
     "metadata": {},
     "output_type": "execute_result"
    }
   ],
   "source": [
    "TotalSum"
   ]
  },
  {
   "cell_type": "code",
   "execution_count": 282,
   "id": "f0ed8c18",
   "metadata": {},
   "outputs": [
    {
     "data": {
      "text/plain": [
       "1412769.0"
      ]
     },
     "execution_count": 282,
     "metadata": {},
     "output_type": "execute_result"
    }
   ],
   "source": [
    "df['amount'].sum()"
   ]
  },
  {
   "cell_type": "code",
   "execution_count": 283,
   "id": "8530163d",
   "metadata": {},
   "outputs": [],
   "source": [
    "totalSum=df.groupby(['year','month'])['amount'].sum().reset_index()"
   ]
  },
  {
   "cell_type": "code",
   "execution_count": 284,
   "id": "c5e05488",
   "metadata": {},
   "outputs": [
    {
     "data": {
      "text/html": [
       "<div>\n",
       "<style scoped>\n",
       "    .dataframe tbody tr th:only-of-type {\n",
       "        vertical-align: middle;\n",
       "    }\n",
       "\n",
       "    .dataframe tbody tr th {\n",
       "        vertical-align: top;\n",
       "    }\n",
       "\n",
       "    .dataframe thead th {\n",
       "        text-align: right;\n",
       "    }\n",
       "</style>\n",
       "<table border=\"1\" class=\"dataframe\">\n",
       "  <thead>\n",
       "    <tr style=\"text-align: right;\">\n",
       "      <th></th>\n",
       "      <th>year</th>\n",
       "      <th>month</th>\n",
       "      <th>amount</th>\n",
       "    </tr>\n",
       "  </thead>\n",
       "  <tbody>\n",
       "    <tr>\n",
       "      <th>0</th>\n",
       "      <td>2019</td>\n",
       "      <td>11</td>\n",
       "      <td>1.0</td>\n",
       "    </tr>\n",
       "    <tr>\n",
       "      <th>1</th>\n",
       "      <td>2019</td>\n",
       "      <td>12</td>\n",
       "      <td>27297.0</td>\n",
       "    </tr>\n",
       "    <tr>\n",
       "      <th>2</th>\n",
       "      <td>2020</td>\n",
       "      <td>1</td>\n",
       "      <td>21587.0</td>\n",
       "    </tr>\n",
       "    <tr>\n",
       "      <th>3</th>\n",
       "      <td>2020</td>\n",
       "      <td>2</td>\n",
       "      <td>16653.0</td>\n",
       "    </tr>\n",
       "    <tr>\n",
       "      <th>4</th>\n",
       "      <td>2020</td>\n",
       "      <td>3</td>\n",
       "      <td>23549.0</td>\n",
       "    </tr>\n",
       "    <tr>\n",
       "      <th>5</th>\n",
       "      <td>2020</td>\n",
       "      <td>4</td>\n",
       "      <td>46093.0</td>\n",
       "    </tr>\n",
       "    <tr>\n",
       "      <th>6</th>\n",
       "      <td>2020</td>\n",
       "      <td>5</td>\n",
       "      <td>79236.0</td>\n",
       "    </tr>\n",
       "    <tr>\n",
       "      <th>7</th>\n",
       "      <td>2020</td>\n",
       "      <td>6</td>\n",
       "      <td>246026.0</td>\n",
       "    </tr>\n",
       "    <tr>\n",
       "      <th>8</th>\n",
       "      <td>2020</td>\n",
       "      <td>7</td>\n",
       "      <td>328187.0</td>\n",
       "    </tr>\n",
       "    <tr>\n",
       "      <th>9</th>\n",
       "      <td>2020</td>\n",
       "      <td>8</td>\n",
       "      <td>287633.0</td>\n",
       "    </tr>\n",
       "    <tr>\n",
       "      <th>10</th>\n",
       "      <td>2020</td>\n",
       "      <td>9</td>\n",
       "      <td>336507.0</td>\n",
       "    </tr>\n",
       "  </tbody>\n",
       "</table>\n",
       "</div>"
      ],
      "text/plain": [
       "    year  month    amount\n",
       "0   2019     11       1.0\n",
       "1   2019     12   27297.0\n",
       "2   2020      1   21587.0\n",
       "3   2020      2   16653.0\n",
       "4   2020      3   23549.0\n",
       "5   2020      4   46093.0\n",
       "6   2020      5   79236.0\n",
       "7   2020      6  246026.0\n",
       "8   2020      7  328187.0\n",
       "9   2020      8  287633.0\n",
       "10  2020      9  336507.0"
      ]
     },
     "execution_count": 284,
     "metadata": {},
     "output_type": "execute_result"
    }
   ],
   "source": [
    "totalSum"
   ]
  },
  {
   "cell_type": "markdown",
   "id": "b34db616",
   "metadata": {},
   "source": [
    "# Dinero medio solicitato por cada usuario al mes "
   ]
  },
  {
   "cell_type": "code",
   "execution_count": 285,
   "id": "b8671a74",
   "metadata": {},
   "outputs": [],
   "source": [
    "usuarioId=df_nn.groupby(['year','month'])['user_id'].nunique().reset_index()"
   ]
  },
  {
   "cell_type": "code",
   "execution_count": 286,
   "id": "9727e7c9",
   "metadata": {},
   "outputs": [],
   "source": [
    "usuarioNoId=df_wn.groupby(['year','month'])['id'].count().reset_index()"
   ]
  },
  {
   "cell_type": "code",
   "execution_count": 287,
   "id": "856348c9",
   "metadata": {},
   "outputs": [],
   "source": [
    "usuarioTotal=pd.merge(usuarioId, usuarioNoId, on=['year','month'], how='left').fillna(0)"
   ]
  },
  {
   "cell_type": "code",
   "execution_count": 288,
   "id": "466e580b",
   "metadata": {},
   "outputs": [],
   "source": [
    "usuarioTotal['totalUser']=usuarioTotal['user_id'] + usuarioTotal['id']"
   ]
  },
  {
   "cell_type": "code",
   "execution_count": 289,
   "id": "8934895d",
   "metadata": {},
   "outputs": [],
   "source": [
    "AvgByUser=totalSum.copy()"
   ]
  },
  {
   "cell_type": "code",
   "execution_count": 290,
   "id": "2791924e",
   "metadata": {},
   "outputs": [],
   "source": [
    "AvgByUser['amount']=AvgByUser['amount']/usuarioTotal['totalUser']"
   ]
  },
  {
   "cell_type": "code",
   "execution_count": 291,
   "id": "ee757708",
   "metadata": {},
   "outputs": [
    {
     "data": {
      "text/html": [
       "<div>\n",
       "<style scoped>\n",
       "    .dataframe tbody tr th:only-of-type {\n",
       "        vertical-align: middle;\n",
       "    }\n",
       "\n",
       "    .dataframe tbody tr th {\n",
       "        vertical-align: top;\n",
       "    }\n",
       "\n",
       "    .dataframe thead th {\n",
       "        text-align: right;\n",
       "    }\n",
       "</style>\n",
       "<table border=\"1\" class=\"dataframe\">\n",
       "  <thead>\n",
       "    <tr style=\"text-align: right;\">\n",
       "      <th></th>\n",
       "      <th>year</th>\n",
       "      <th>month</th>\n",
       "      <th>amount</th>\n",
       "    </tr>\n",
       "  </thead>\n",
       "  <tbody>\n",
       "    <tr>\n",
       "      <th>0</th>\n",
       "      <td>2019</td>\n",
       "      <td>11</td>\n",
       "      <td>1.000000</td>\n",
       "    </tr>\n",
       "    <tr>\n",
       "      <th>1</th>\n",
       "      <td>2019</td>\n",
       "      <td>12</td>\n",
       "      <td>103.397727</td>\n",
       "    </tr>\n",
       "    <tr>\n",
       "      <th>2</th>\n",
       "      <td>2020</td>\n",
       "      <td>1</td>\n",
       "      <td>104.791262</td>\n",
       "    </tr>\n",
       "    <tr>\n",
       "      <th>3</th>\n",
       "      <td>2020</td>\n",
       "      <td>2</td>\n",
       "      <td>95.706897</td>\n",
       "    </tr>\n",
       "    <tr>\n",
       "      <th>4</th>\n",
       "      <td>2020</td>\n",
       "      <td>3</td>\n",
       "      <td>107.040909</td>\n",
       "    </tr>\n",
       "    <tr>\n",
       "      <th>5</th>\n",
       "      <td>2020</td>\n",
       "      <td>4</td>\n",
       "      <td>108.709906</td>\n",
       "    </tr>\n",
       "    <tr>\n",
       "      <th>6</th>\n",
       "      <td>2020</td>\n",
       "      <td>5</td>\n",
       "      <td>106.214477</td>\n",
       "    </tr>\n",
       "    <tr>\n",
       "      <th>7</th>\n",
       "      <td>2020</td>\n",
       "      <td>6</td>\n",
       "      <td>111.880855</td>\n",
       "    </tr>\n",
       "    <tr>\n",
       "      <th>8</th>\n",
       "      <td>2020</td>\n",
       "      <td>7</td>\n",
       "      <td>114.750699</td>\n",
       "    </tr>\n",
       "    <tr>\n",
       "      <th>9</th>\n",
       "      <td>2020</td>\n",
       "      <td>8</td>\n",
       "      <td>106.098488</td>\n",
       "    </tr>\n",
       "    <tr>\n",
       "      <th>10</th>\n",
       "      <td>2020</td>\n",
       "      <td>9</td>\n",
       "      <td>89.927044</td>\n",
       "    </tr>\n",
       "  </tbody>\n",
       "</table>\n",
       "</div>"
      ],
      "text/plain": [
       "    year  month      amount\n",
       "0   2019     11    1.000000\n",
       "1   2019     12  103.397727\n",
       "2   2020      1  104.791262\n",
       "3   2020      2   95.706897\n",
       "4   2020      3  107.040909\n",
       "5   2020      4  108.709906\n",
       "6   2020      5  106.214477\n",
       "7   2020      6  111.880855\n",
       "8   2020      7  114.750699\n",
       "9   2020      8  106.098488\n",
       "10  2020      9   89.927044"
      ]
     },
     "execution_count": 291,
     "metadata": {},
     "output_type": "execute_result"
    }
   ],
   "source": [
    "AvgByUser"
   ]
  },
  {
   "cell_type": "markdown",
   "id": "d978d1df",
   "metadata": {},
   "source": [
    "Porcentaje de las solicitudes que son aceptadas cada mes"
   ]
  },
  {
   "cell_type": "markdown",
   "id": "66943b21",
   "metadata": {},
   "source": [
    "# % de acceptados cada mes"
   ]
  },
  {
   "cell_type": "code",
   "execution_count": 292,
   "id": "80dc6cb9",
   "metadata": {},
   "outputs": [],
   "source": [
    "grouped_object=df.groupby(['year','month'], dropna=False)"
   ]
  },
  {
   "cell_type": "code",
   "execution_count": 293,
   "id": "7bd67936",
   "metadata": {},
   "outputs": [
    {
     "data": {
      "text/plain": [
       "year  month  status  \n",
       "2019  11     rejected       1\n",
       "      12     approved     179\n",
       "             rejected     110\n",
       "2020  1      rejected     112\n",
       "             approved     111\n",
       "      2      approved     112\n",
       "             rejected      72\n",
       "      3      approved     169\n",
       "             rejected      75\n",
       "      4      approved     323\n",
       "             rejected     150\n",
       "      5      approved     610\n",
       "             rejected     227\n",
       "      6      approved    1649\n",
       "             rejected     966\n",
       "      7      approved    2015\n",
       "             rejected    1586\n",
       "      8      approved    2026\n",
       "             rejected    1391\n",
       "      9      approved    2772\n",
       "             rejected    1449\n",
       "Name: status, dtype: int64"
      ]
     },
     "execution_count": 293,
     "metadata": {},
     "output_type": "execute_result"
    }
   ],
   "source": [
    "grouped_object['status'].value_counts()"
   ]
  },
  {
   "cell_type": "code",
   "execution_count": 294,
   "id": "6b0e86c5",
   "metadata": {},
   "outputs": [],
   "source": [
    "acceptedPercentage=grouped_object['status'].count().reset_index()"
   ]
  },
  {
   "cell_type": "code",
   "execution_count": 884,
   "id": "4dd87e55",
   "metadata": {},
   "outputs": [
    {
     "data": {
      "text/html": [
       "<div>\n",
       "<style scoped>\n",
       "    .dataframe tbody tr th:only-of-type {\n",
       "        vertical-align: middle;\n",
       "    }\n",
       "\n",
       "    .dataframe tbody tr th {\n",
       "        vertical-align: top;\n",
       "    }\n",
       "\n",
       "    .dataframe thead th {\n",
       "        text-align: right;\n",
       "    }\n",
       "</style>\n",
       "<table border=\"1\" class=\"dataframe\">\n",
       "  <thead>\n",
       "    <tr style=\"text-align: right;\">\n",
       "      <th></th>\n",
       "      <th>year</th>\n",
       "      <th>month</th>\n",
       "      <th>status</th>\n",
       "    </tr>\n",
       "  </thead>\n",
       "  <tbody>\n",
       "    <tr>\n",
       "      <th>0</th>\n",
       "      <td>2019</td>\n",
       "      <td>11</td>\n",
       "      <td>1</td>\n",
       "    </tr>\n",
       "    <tr>\n",
       "      <th>1</th>\n",
       "      <td>2019</td>\n",
       "      <td>12</td>\n",
       "      <td>289</td>\n",
       "    </tr>\n",
       "    <tr>\n",
       "      <th>2</th>\n",
       "      <td>2020</td>\n",
       "      <td>1</td>\n",
       "      <td>223</td>\n",
       "    </tr>\n",
       "    <tr>\n",
       "      <th>3</th>\n",
       "      <td>2020</td>\n",
       "      <td>2</td>\n",
       "      <td>184</td>\n",
       "    </tr>\n",
       "    <tr>\n",
       "      <th>4</th>\n",
       "      <td>2020</td>\n",
       "      <td>3</td>\n",
       "      <td>244</td>\n",
       "    </tr>\n",
       "    <tr>\n",
       "      <th>5</th>\n",
       "      <td>2020</td>\n",
       "      <td>4</td>\n",
       "      <td>473</td>\n",
       "    </tr>\n",
       "    <tr>\n",
       "      <th>6</th>\n",
       "      <td>2020</td>\n",
       "      <td>5</td>\n",
       "      <td>837</td>\n",
       "    </tr>\n",
       "    <tr>\n",
       "      <th>7</th>\n",
       "      <td>2020</td>\n",
       "      <td>6</td>\n",
       "      <td>2615</td>\n",
       "    </tr>\n",
       "    <tr>\n",
       "      <th>8</th>\n",
       "      <td>2020</td>\n",
       "      <td>7</td>\n",
       "      <td>3601</td>\n",
       "    </tr>\n",
       "    <tr>\n",
       "      <th>9</th>\n",
       "      <td>2020</td>\n",
       "      <td>8</td>\n",
       "      <td>3417</td>\n",
       "    </tr>\n",
       "    <tr>\n",
       "      <th>10</th>\n",
       "      <td>2020</td>\n",
       "      <td>9</td>\n",
       "      <td>4221</td>\n",
       "    </tr>\n",
       "  </tbody>\n",
       "</table>\n",
       "</div>"
      ],
      "text/plain": [
       "    year  month  status\n",
       "0   2019     11       1\n",
       "1   2019     12     289\n",
       "2   2020      1     223\n",
       "3   2020      2     184\n",
       "4   2020      3     244\n",
       "5   2020      4     473\n",
       "6   2020      5     837\n",
       "7   2020      6    2615\n",
       "8   2020      7    3601\n",
       "9   2020      8    3417\n",
       "10  2020      9    4221"
      ]
     },
     "execution_count": 884,
     "metadata": {},
     "output_type": "execute_result"
    }
   ],
   "source": [
    "acceptedPercentage"
   ]
  },
  {
   "cell_type": "code",
   "execution_count": 891,
   "id": "3d1e2849",
   "metadata": {},
   "outputs": [],
   "source": [
    "test=round(grouped_object['status'].value_counts()/grouped_object['status'].count(),2)"
   ]
  },
  {
   "cell_type": "code",
   "execution_count": 892,
   "id": "eee9c5f5",
   "metadata": {},
   "outputs": [
    {
     "data": {
      "text/plain": [
       "year  month  status  \n",
       "2019  11     rejected    1.00\n",
       "      12     approved    0.62\n",
       "             rejected    0.38\n",
       "2020  1      rejected    0.50\n",
       "             approved    0.50\n",
       "      2      approved    0.61\n",
       "             rejected    0.39\n",
       "      3      approved    0.69\n",
       "             rejected    0.31\n",
       "      4      approved    0.68\n",
       "             rejected    0.32\n",
       "      5      approved    0.73\n",
       "             rejected    0.27\n",
       "      6      approved    0.63\n",
       "             rejected    0.37\n",
       "      7      approved    0.56\n",
       "             rejected    0.44\n",
       "      8      approved    0.59\n",
       "             rejected    0.41\n",
       "      9      approved    0.66\n",
       "             rejected    0.34\n",
       "Name: status, dtype: float64"
      ]
     },
     "execution_count": 892,
     "metadata": {},
     "output_type": "execute_result"
    }
   ],
   "source": [
    "test."
   ]
  },
  {
   "cell_type": "markdown",
   "id": "6d84a21f",
   "metadata": {},
   "source": [
    "# Número de solicitudes al mes que son aceptadas pero NO son devueltas.\n"
   ]
  },
  {
   "cell_type": "code",
   "execution_count": 296,
   "id": "63a86cd0",
   "metadata": {},
   "outputs": [
    {
     "data": {
      "text/html": [
       "<div>\n",
       "<style scoped>\n",
       "    .dataframe tbody tr th:only-of-type {\n",
       "        vertical-align: middle;\n",
       "    }\n",
       "\n",
       "    .dataframe tbody tr th {\n",
       "        vertical-align: top;\n",
       "    }\n",
       "\n",
       "    .dataframe thead th {\n",
       "        text-align: right;\n",
       "    }\n",
       "</style>\n",
       "<table border=\"1\" class=\"dataframe\">\n",
       "  <thead>\n",
       "    <tr style=\"text-align: right;\">\n",
       "      <th></th>\n",
       "      <th>year</th>\n",
       "      <th>month</th>\n",
       "      <th>id</th>\n",
       "    </tr>\n",
       "  </thead>\n",
       "  <tbody>\n",
       "    <tr>\n",
       "      <th>0</th>\n",
       "      <td>2019</td>\n",
       "      <td>12</td>\n",
       "      <td>142</td>\n",
       "    </tr>\n",
       "    <tr>\n",
       "      <th>1</th>\n",
       "      <td>2020</td>\n",
       "      <td>1</td>\n",
       "      <td>36</td>\n",
       "    </tr>\n",
       "    <tr>\n",
       "      <th>2</th>\n",
       "      <td>2020</td>\n",
       "      <td>2</td>\n",
       "      <td>39</td>\n",
       "    </tr>\n",
       "    <tr>\n",
       "      <th>3</th>\n",
       "      <td>2020</td>\n",
       "      <td>3</td>\n",
       "      <td>1</td>\n",
       "    </tr>\n",
       "    <tr>\n",
       "      <th>4</th>\n",
       "      <td>2020</td>\n",
       "      <td>4</td>\n",
       "      <td>1</td>\n",
       "    </tr>\n",
       "    <tr>\n",
       "      <th>5</th>\n",
       "      <td>2020</td>\n",
       "      <td>6</td>\n",
       "      <td>10</td>\n",
       "    </tr>\n",
       "    <tr>\n",
       "      <th>6</th>\n",
       "      <td>2020</td>\n",
       "      <td>7</td>\n",
       "      <td>64</td>\n",
       "    </tr>\n",
       "    <tr>\n",
       "      <th>7</th>\n",
       "      <td>2020</td>\n",
       "      <td>8</td>\n",
       "      <td>67</td>\n",
       "    </tr>\n",
       "    <tr>\n",
       "      <th>8</th>\n",
       "      <td>2020</td>\n",
       "      <td>9</td>\n",
       "      <td>109</td>\n",
       "    </tr>\n",
       "  </tbody>\n",
       "</table>\n",
       "</div>"
      ],
      "text/plain": [
       "   year  month   id\n",
       "0  2019     12  142\n",
       "1  2020      1   36\n",
       "2  2020      2   39\n",
       "3  2020      3    1\n",
       "4  2020      4    1\n",
       "5  2020      6   10\n",
       "6  2020      7   64\n",
       "7  2020      8   67\n",
       "8  2020      9  109"
      ]
     },
     "execution_count": 296,
     "metadata": {},
     "output_type": "execute_result"
    }
   ],
   "source": [
    "mask=(df['money_back_date'].isna()) &  (df['status']=='approved')\n",
    "\n",
    "df[mask].groupby(['year','month']).count()['id'].reset_index()"
   ]
  },
  {
   "cell_type": "markdown",
   "id": "550150da",
   "metadata": {},
   "source": [
    "# Número de solicitudes al mes que son aceptadas pero son devueltas.\n"
   ]
  },
  {
   "cell_type": "code",
   "execution_count": 297,
   "id": "726a1159",
   "metadata": {},
   "outputs": [],
   "source": [
    "mask=(df['money_back_date'].notnull()) &  (df['status']=='approved')\n"
   ]
  },
  {
   "cell_type": "code",
   "execution_count": 298,
   "id": "22124e54",
   "metadata": {},
   "outputs": [
    {
     "data": {
      "text/plain": [
       "year  month\n",
       "2019  12         37\n",
       "2020  1          75\n",
       "      2          73\n",
       "      3         168\n",
       "      4         322\n",
       "      5         610\n",
       "      6        1639\n",
       "      7        1951\n",
       "      8        1959\n",
       "      9        2663\n",
       "Name: id, dtype: int64"
      ]
     },
     "execution_count": 298,
     "metadata": {},
     "output_type": "execute_result"
    }
   ],
   "source": [
    "df[mask].groupby(['year','month']).count()['id']"
   ]
  },
  {
   "cell_type": "code",
   "execution_count": 299,
   "id": "028b49cb",
   "metadata": {},
   "outputs": [
    {
     "data": {
      "text/html": [
       "<div>\n",
       "<style scoped>\n",
       "    .dataframe tbody tr th:only-of-type {\n",
       "        vertical-align: middle;\n",
       "    }\n",
       "\n",
       "    .dataframe tbody tr th {\n",
       "        vertical-align: top;\n",
       "    }\n",
       "\n",
       "    .dataframe thead th {\n",
       "        text-align: right;\n",
       "    }\n",
       "</style>\n",
       "<table border=\"1\" class=\"dataframe\">\n",
       "  <thead>\n",
       "    <tr style=\"text-align: right;\">\n",
       "      <th></th>\n",
       "      <th>id</th>\n",
       "      <th>amount</th>\n",
       "      <th>status</th>\n",
       "      <th>created_at</th>\n",
       "      <th>user_id</th>\n",
       "      <th>money_back_date</th>\n",
       "      <th>transfer_type</th>\n",
       "      <th>send_at</th>\n",
       "      <th>date</th>\n",
       "      <th>year</th>\n",
       "      <th>month</th>\n",
       "    </tr>\n",
       "  </thead>\n",
       "  <tbody>\n",
       "    <tr>\n",
       "      <th>1</th>\n",
       "      <td>13107</td>\n",
       "      <td>100.0</td>\n",
       "      <td>approved</td>\n",
       "      <td>2020-08-19 16:20:22.768375+00</td>\n",
       "      <td>8020.0</td>\n",
       "      <td>2020-09-24 22:23:28.213168+00</td>\n",
       "      <td>regular</td>\n",
       "      <td>2020-08-26 16:20:22.631568+00</td>\n",
       "      <td>2020-08-19 16:20:22.768375+00:00</td>\n",
       "      <td>2020</td>\n",
       "      <td>8</td>\n",
       "    </tr>\n",
       "    <tr>\n",
       "      <th>2</th>\n",
       "      <td>11984</td>\n",
       "      <td>50.0</td>\n",
       "      <td>approved</td>\n",
       "      <td>2020-08-11 13:23:12.220906+00</td>\n",
       "      <td>27793.0</td>\n",
       "      <td>2020-11-19 23:00:00+00</td>\n",
       "      <td>instant</td>\n",
       "      <td>2020-08-18 13:23:12.220516+00</td>\n",
       "      <td>2020-08-11 13:23:12.220906+00:00</td>\n",
       "      <td>2020</td>\n",
       "      <td>8</td>\n",
       "    </tr>\n",
       "    <tr>\n",
       "      <th>3</th>\n",
       "      <td>11322</td>\n",
       "      <td>50.0</td>\n",
       "      <td>approved</td>\n",
       "      <td>2020-08-07 11:01:30.51934+00</td>\n",
       "      <td>15409.0</td>\n",
       "      <td>2020-08-29 22:12:23.812361+00</td>\n",
       "      <td>instant</td>\n",
       "      <td>2020-08-14 11:01:30.518974+00</td>\n",
       "      <td>2020-08-07 11:01:30.519340+00:00</td>\n",
       "      <td>2020</td>\n",
       "      <td>8</td>\n",
       "    </tr>\n",
       "    <tr>\n",
       "      <th>6</th>\n",
       "      <td>13637</td>\n",
       "      <td>50.0</td>\n",
       "      <td>approved</td>\n",
       "      <td>2020-08-22 21:49:07.20549+00</td>\n",
       "      <td>4604.0</td>\n",
       "      <td>2020-09-08 19:27:06.237009+00</td>\n",
       "      <td>instant</td>\n",
       "      <td>2020-08-29 21:49:07.158273+00</td>\n",
       "      <td>2020-08-22 21:49:07.205490+00:00</td>\n",
       "      <td>2020</td>\n",
       "      <td>8</td>\n",
       "    </tr>\n",
       "    <tr>\n",
       "      <th>8</th>\n",
       "      <td>12784</td>\n",
       "      <td>100.0</td>\n",
       "      <td>approved</td>\n",
       "      <td>2020-08-17 11:35:13.8091+00</td>\n",
       "      <td>8231.0</td>\n",
       "      <td>2020-09-03 19:00:15.188417+00</td>\n",
       "      <td>regular</td>\n",
       "      <td>2020-08-24 11:35:13.744489+00</td>\n",
       "      <td>2020-08-17 11:35:13.809100+00:00</td>\n",
       "      <td>2020</td>\n",
       "      <td>8</td>\n",
       "    </tr>\n",
       "  </tbody>\n",
       "</table>\n",
       "</div>"
      ],
      "text/plain": [
       "      id  amount    status                     created_at  user_id  \\\n",
       "1  13107   100.0  approved  2020-08-19 16:20:22.768375+00   8020.0   \n",
       "2  11984    50.0  approved  2020-08-11 13:23:12.220906+00  27793.0   \n",
       "3  11322    50.0  approved   2020-08-07 11:01:30.51934+00  15409.0   \n",
       "6  13637    50.0  approved   2020-08-22 21:49:07.20549+00   4604.0   \n",
       "8  12784   100.0  approved    2020-08-17 11:35:13.8091+00   8231.0   \n",
       "\n",
       "                 money_back_date transfer_type                        send_at  \\\n",
       "1  2020-09-24 22:23:28.213168+00       regular  2020-08-26 16:20:22.631568+00   \n",
       "2         2020-11-19 23:00:00+00       instant  2020-08-18 13:23:12.220516+00   \n",
       "3  2020-08-29 22:12:23.812361+00       instant  2020-08-14 11:01:30.518974+00   \n",
       "6  2020-09-08 19:27:06.237009+00       instant  2020-08-29 21:49:07.158273+00   \n",
       "8  2020-09-03 19:00:15.188417+00       regular  2020-08-24 11:35:13.744489+00   \n",
       "\n",
       "                              date  year  month  \n",
       "1 2020-08-19 16:20:22.768375+00:00  2020      8  \n",
       "2 2020-08-11 13:23:12.220906+00:00  2020      8  \n",
       "3 2020-08-07 11:01:30.519340+00:00  2020      8  \n",
       "6 2020-08-22 21:49:07.205490+00:00  2020      8  \n",
       "8 2020-08-17 11:35:13.809100+00:00  2020      8  "
      ]
     },
     "execution_count": 299,
     "metadata": {},
     "output_type": "execute_result"
    }
   ],
   "source": [
    "df[mask].head()"
   ]
  },
  {
   "cell_type": "markdown",
   "id": "fd629b1d",
   "metadata": {},
   "source": [
    "# Tiempo medio en devolver un préstamo (MM:DD:HH).\n"
   ]
  },
  {
   "cell_type": "code",
   "execution_count": 300,
   "id": "a5c61e5b",
   "metadata": {},
   "outputs": [],
   "source": [
    "df['money_back_dateDate']= pd.to_datetime(df['money_back_date'])"
   ]
  },
  {
   "cell_type": "code",
   "execution_count": 301,
   "id": "8fad2bdb",
   "metadata": {},
   "outputs": [],
   "source": [
    "df['tiempo_delta']= df['money_back_dateDate']  - df['date']"
   ]
  },
  {
   "cell_type": "code",
   "execution_count": 302,
   "id": "5e7f557c",
   "metadata": {},
   "outputs": [
    {
     "name": "stderr",
     "output_type": "stream",
     "text": [
      "<ipython-input-302-f1d5824a5980>:1: FutureWarning: DataFrame.mean and DataFrame.median with numeric_only=None will include datetime64 and datetime64tz columns in a future version.\n",
      "  df[df['tiempo_delta'].notnull()].mean()['tiempo_delta']\n"
     ]
    },
    {
     "data": {
      "text/plain": [
       "Timedelta('37 days 09:44:20.265354216')"
      ]
     },
     "execution_count": 302,
     "metadata": {},
     "output_type": "execute_result"
    }
   ],
   "source": [
    "df[df['tiempo_delta'].notnull()].mean()['tiempo_delta']"
   ]
  },
  {
   "cell_type": "code",
   "execution_count": 303,
   "id": "ecdbed77",
   "metadata": {},
   "outputs": [
    {
     "name": "stderr",
     "output_type": "stream",
     "text": [
      "<ipython-input-303-57c0a7971831>:2: FutureWarning: DataFrame.mean and DataFrame.median with numeric_only=None will include datetime64 and datetime64tz columns in a future version.\n",
      "  df[mask].mean()['tiempo_delta']\n"
     ]
    },
    {
     "data": {
      "text/plain": [
       "Timedelta('37 days 09:45:31.788799434')"
      ]
     },
     "execution_count": 303,
     "metadata": {},
     "output_type": "execute_result"
    }
   ],
   "source": [
    "mask= (df.status == 'approved') &( df['tiempo_delta'].notnull())\n",
    "df[mask].mean()['tiempo_delta']"
   ]
  },
  {
   "cell_type": "markdown",
   "id": "00ab101c",
   "metadata": {},
   "source": [
    "# Cantidad de dinero que se presta cada mes.\n"
   ]
  },
  {
   "cell_type": "code",
   "execution_count": 304,
   "id": "837b4547",
   "metadata": {},
   "outputs": [
    {
     "data": {
      "text/plain": [
       "year  month\n",
       "2019  11            1.0\n",
       "      12        27297.0\n",
       "2020  1         21587.0\n",
       "      2         16653.0\n",
       "      3         23549.0\n",
       "      4         46093.0\n",
       "      5         79236.0\n",
       "      6        246026.0\n",
       "      7        328187.0\n",
       "      8        287633.0\n",
       "      9        336507.0\n",
       "Name: amount, dtype: float64"
      ]
     },
     "execution_count": 304,
     "metadata": {},
     "output_type": "execute_result"
    }
   ],
   "source": [
    "df.groupby(['year','month'])['amount'].sum()"
   ]
  },
  {
   "cell_type": "code",
   "execution_count": 305,
   "id": "2f8249e2",
   "metadata": {},
   "outputs": [
    {
     "data": {
      "text/html": [
       "<div>\n",
       "<style scoped>\n",
       "    .dataframe tbody tr th:only-of-type {\n",
       "        vertical-align: middle;\n",
       "    }\n",
       "\n",
       "    .dataframe tbody tr th {\n",
       "        vertical-align: top;\n",
       "    }\n",
       "\n",
       "    .dataframe thead th {\n",
       "        text-align: right;\n",
       "    }\n",
       "</style>\n",
       "<table border=\"1\" class=\"dataframe\">\n",
       "  <thead>\n",
       "    <tr style=\"text-align: right;\">\n",
       "      <th></th>\n",
       "      <th>id</th>\n",
       "      <th>amount</th>\n",
       "      <th>status</th>\n",
       "      <th>created_at</th>\n",
       "      <th>user_id</th>\n",
       "      <th>money_back_date</th>\n",
       "      <th>transfer_type</th>\n",
       "      <th>send_at</th>\n",
       "      <th>date</th>\n",
       "      <th>year</th>\n",
       "      <th>month</th>\n",
       "      <th>money_back_dateDate</th>\n",
       "      <th>tiempo_delta</th>\n",
       "    </tr>\n",
       "  </thead>\n",
       "  <tbody>\n",
       "    <tr>\n",
       "      <th>0</th>\n",
       "      <td>4405</td>\n",
       "      <td>100.0</td>\n",
       "      <td>rejected</td>\n",
       "      <td>2020-06-20 16:46:28.409042+00</td>\n",
       "      <td>14799.0</td>\n",
       "      <td>NaN</td>\n",
       "      <td>regular</td>\n",
       "      <td>NaN</td>\n",
       "      <td>2020-06-20 16:46:28.409042+00:00</td>\n",
       "      <td>2020</td>\n",
       "      <td>6</td>\n",
       "      <td>NaT</td>\n",
       "      <td>NaT</td>\n",
       "    </tr>\n",
       "    <tr>\n",
       "      <th>1</th>\n",
       "      <td>13107</td>\n",
       "      <td>100.0</td>\n",
       "      <td>approved</td>\n",
       "      <td>2020-08-19 16:20:22.768375+00</td>\n",
       "      <td>8020.0</td>\n",
       "      <td>2020-09-24 22:23:28.213168+00</td>\n",
       "      <td>regular</td>\n",
       "      <td>2020-08-26 16:20:22.631568+00</td>\n",
       "      <td>2020-08-19 16:20:22.768375+00:00</td>\n",
       "      <td>2020</td>\n",
       "      <td>8</td>\n",
       "      <td>2020-09-24 22:23:28.213168+00:00</td>\n",
       "      <td>36 days 06:03:05.444793</td>\n",
       "    </tr>\n",
       "    <tr>\n",
       "      <th>2</th>\n",
       "      <td>11984</td>\n",
       "      <td>50.0</td>\n",
       "      <td>approved</td>\n",
       "      <td>2020-08-11 13:23:12.220906+00</td>\n",
       "      <td>27793.0</td>\n",
       "      <td>2020-11-19 23:00:00+00</td>\n",
       "      <td>instant</td>\n",
       "      <td>2020-08-18 13:23:12.220516+00</td>\n",
       "      <td>2020-08-11 13:23:12.220906+00:00</td>\n",
       "      <td>2020</td>\n",
       "      <td>8</td>\n",
       "      <td>2020-11-19 23:00:00+00:00</td>\n",
       "      <td>100 days 09:36:47.779094</td>\n",
       "    </tr>\n",
       "    <tr>\n",
       "      <th>3</th>\n",
       "      <td>11322</td>\n",
       "      <td>50.0</td>\n",
       "      <td>approved</td>\n",
       "      <td>2020-08-07 11:01:30.51934+00</td>\n",
       "      <td>15409.0</td>\n",
       "      <td>2020-08-29 22:12:23.812361+00</td>\n",
       "      <td>instant</td>\n",
       "      <td>2020-08-14 11:01:30.518974+00</td>\n",
       "      <td>2020-08-07 11:01:30.519340+00:00</td>\n",
       "      <td>2020</td>\n",
       "      <td>8</td>\n",
       "      <td>2020-08-29 22:12:23.812361+00:00</td>\n",
       "      <td>22 days 11:10:53.293021</td>\n",
       "    </tr>\n",
       "    <tr>\n",
       "      <th>4</th>\n",
       "      <td>16755</td>\n",
       "      <td>50.0</td>\n",
       "      <td>rejected</td>\n",
       "      <td>2020-09-18 13:08:34.789948+00</td>\n",
       "      <td>39701.0</td>\n",
       "      <td>NaN</td>\n",
       "      <td>regular</td>\n",
       "      <td>2020-09-25 13:08:34.765418+00</td>\n",
       "      <td>2020-09-18 13:08:34.789948+00:00</td>\n",
       "      <td>2020</td>\n",
       "      <td>9</td>\n",
       "      <td>NaT</td>\n",
       "      <td>NaT</td>\n",
       "    </tr>\n",
       "    <tr>\n",
       "      <th>...</th>\n",
       "      <td>...</td>\n",
       "      <td>...</td>\n",
       "      <td>...</td>\n",
       "      <td>...</td>\n",
       "      <td>...</td>\n",
       "      <td>...</td>\n",
       "      <td>...</td>\n",
       "      <td>...</td>\n",
       "      <td>...</td>\n",
       "      <td>...</td>\n",
       "      <td>...</td>\n",
       "      <td>...</td>\n",
       "      <td>...</td>\n",
       "    </tr>\n",
       "    <tr>\n",
       "      <th>16100</th>\n",
       "      <td>13302</td>\n",
       "      <td>100.0</td>\n",
       "      <td>rejected</td>\n",
       "      <td>2020-08-20 07:23:33.760027+00</td>\n",
       "      <td>29247.0</td>\n",
       "      <td>NaN</td>\n",
       "      <td>instant</td>\n",
       "      <td>2020-08-27 07:23:33.735377+00</td>\n",
       "      <td>2020-08-20 07:23:33.760027+00:00</td>\n",
       "      <td>2020</td>\n",
       "      <td>8</td>\n",
       "      <td>NaT</td>\n",
       "      <td>NaT</td>\n",
       "    </tr>\n",
       "    <tr>\n",
       "      <th>16101</th>\n",
       "      <td>13710</td>\n",
       "      <td>100.0</td>\n",
       "      <td>rejected</td>\n",
       "      <td>2020-08-24 00:33:58.853099+00</td>\n",
       "      <td>NaN</td>\n",
       "      <td>NaN</td>\n",
       "      <td>instant</td>\n",
       "      <td>2020-08-31 00:33:58.824223+00</td>\n",
       "      <td>2020-08-24 00:33:58.853099+00:00</td>\n",
       "      <td>2020</td>\n",
       "      <td>8</td>\n",
       "      <td>NaT</td>\n",
       "      <td>NaT</td>\n",
       "    </tr>\n",
       "    <tr>\n",
       "      <th>16102</th>\n",
       "      <td>1522</td>\n",
       "      <td>100.0</td>\n",
       "      <td>approved</td>\n",
       "      <td>2020-05-02 08:54:49.586739+00</td>\n",
       "      <td>2562.0</td>\n",
       "      <td>2020-06-13 00:16:39.223405+00</td>\n",
       "      <td>regular</td>\n",
       "      <td>NaN</td>\n",
       "      <td>2020-05-02 08:54:49.586739+00:00</td>\n",
       "      <td>2020</td>\n",
       "      <td>5</td>\n",
       "      <td>2020-06-13 00:16:39.223405+00:00</td>\n",
       "      <td>41 days 15:21:49.636666</td>\n",
       "    </tr>\n",
       "    <tr>\n",
       "      <th>16103</th>\n",
       "      <td>7153</td>\n",
       "      <td>100.0</td>\n",
       "      <td>rejected</td>\n",
       "      <td>2020-07-08 12:56:16.163418+00</td>\n",
       "      <td>NaN</td>\n",
       "      <td>NaN</td>\n",
       "      <td>regular</td>\n",
       "      <td>NaN</td>\n",
       "      <td>2020-07-08 12:56:16.163418+00:00</td>\n",
       "      <td>2020</td>\n",
       "      <td>7</td>\n",
       "      <td>NaT</td>\n",
       "      <td>NaT</td>\n",
       "    </tr>\n",
       "    <tr>\n",
       "      <th>16104</th>\n",
       "      <td>5054</td>\n",
       "      <td>100.0</td>\n",
       "      <td>rejected</td>\n",
       "      <td>2020-06-24 22:21:42.100489+00</td>\n",
       "      <td>13483.0</td>\n",
       "      <td>NaN</td>\n",
       "      <td>regular</td>\n",
       "      <td>NaN</td>\n",
       "      <td>2020-06-24 22:21:42.100489+00:00</td>\n",
       "      <td>2020</td>\n",
       "      <td>6</td>\n",
       "      <td>NaT</td>\n",
       "      <td>NaT</td>\n",
       "    </tr>\n",
       "  </tbody>\n",
       "</table>\n",
       "<p>16105 rows × 13 columns</p>\n",
       "</div>"
      ],
      "text/plain": [
       "          id  amount    status                     created_at  user_id  \\\n",
       "0       4405   100.0  rejected  2020-06-20 16:46:28.409042+00  14799.0   \n",
       "1      13107   100.0  approved  2020-08-19 16:20:22.768375+00   8020.0   \n",
       "2      11984    50.0  approved  2020-08-11 13:23:12.220906+00  27793.0   \n",
       "3      11322    50.0  approved   2020-08-07 11:01:30.51934+00  15409.0   \n",
       "4      16755    50.0  rejected  2020-09-18 13:08:34.789948+00  39701.0   \n",
       "...      ...     ...       ...                            ...      ...   \n",
       "16100  13302   100.0  rejected  2020-08-20 07:23:33.760027+00  29247.0   \n",
       "16101  13710   100.0  rejected  2020-08-24 00:33:58.853099+00      NaN   \n",
       "16102   1522   100.0  approved  2020-05-02 08:54:49.586739+00   2562.0   \n",
       "16103   7153   100.0  rejected  2020-07-08 12:56:16.163418+00      NaN   \n",
       "16104   5054   100.0  rejected  2020-06-24 22:21:42.100489+00  13483.0   \n",
       "\n",
       "                     money_back_date transfer_type  \\\n",
       "0                                NaN       regular   \n",
       "1      2020-09-24 22:23:28.213168+00       regular   \n",
       "2             2020-11-19 23:00:00+00       instant   \n",
       "3      2020-08-29 22:12:23.812361+00       instant   \n",
       "4                                NaN       regular   \n",
       "...                              ...           ...   \n",
       "16100                            NaN       instant   \n",
       "16101                            NaN       instant   \n",
       "16102  2020-06-13 00:16:39.223405+00       regular   \n",
       "16103                            NaN       regular   \n",
       "16104                            NaN       regular   \n",
       "\n",
       "                             send_at                             date  year  \\\n",
       "0                                NaN 2020-06-20 16:46:28.409042+00:00  2020   \n",
       "1      2020-08-26 16:20:22.631568+00 2020-08-19 16:20:22.768375+00:00  2020   \n",
       "2      2020-08-18 13:23:12.220516+00 2020-08-11 13:23:12.220906+00:00  2020   \n",
       "3      2020-08-14 11:01:30.518974+00 2020-08-07 11:01:30.519340+00:00  2020   \n",
       "4      2020-09-25 13:08:34.765418+00 2020-09-18 13:08:34.789948+00:00  2020   \n",
       "...                              ...                              ...   ...   \n",
       "16100  2020-08-27 07:23:33.735377+00 2020-08-20 07:23:33.760027+00:00  2020   \n",
       "16101  2020-08-31 00:33:58.824223+00 2020-08-24 00:33:58.853099+00:00  2020   \n",
       "16102                            NaN 2020-05-02 08:54:49.586739+00:00  2020   \n",
       "16103                            NaN 2020-07-08 12:56:16.163418+00:00  2020   \n",
       "16104                            NaN 2020-06-24 22:21:42.100489+00:00  2020   \n",
       "\n",
       "       month              money_back_dateDate             tiempo_delta  \n",
       "0          6                              NaT                      NaT  \n",
       "1          8 2020-09-24 22:23:28.213168+00:00  36 days 06:03:05.444793  \n",
       "2          8        2020-11-19 23:00:00+00:00 100 days 09:36:47.779094  \n",
       "3          8 2020-08-29 22:12:23.812361+00:00  22 days 11:10:53.293021  \n",
       "4          9                              NaT                      NaT  \n",
       "...      ...                              ...                      ...  \n",
       "16100      8                              NaT                      NaT  \n",
       "16101      8                              NaT                      NaT  \n",
       "16102      5 2020-06-13 00:16:39.223405+00:00  41 days 15:21:49.636666  \n",
       "16103      7                              NaT                      NaT  \n",
       "16104      6                              NaT                      NaT  \n",
       "\n",
       "[16105 rows x 13 columns]"
      ]
     },
     "execution_count": 305,
     "metadata": {},
     "output_type": "execute_result"
    }
   ],
   "source": [
    "df"
   ]
  },
  {
   "cell_type": "code",
   "execution_count": 306,
   "id": "d8fb6bb3",
   "metadata": {},
   "outputs": [],
   "source": [
    "mask= (df['status']=='approved')"
   ]
  },
  {
   "cell_type": "code",
   "execution_count": 307,
   "id": "90a3f1eb",
   "metadata": {},
   "outputs": [
    {
     "data": {
      "text/plain": [
       "year  month\n",
       "2019  12        16849.0\n",
       "2020  1         10579.0\n",
       "      2         10725.0\n",
       "      3         16200.0\n",
       "      4         31333.0\n",
       "      5         57703.0\n",
       "      6        154133.0\n",
       "      7        184541.0\n",
       "      8        179786.0\n",
       "      9        234073.0\n",
       "Name: amount, dtype: float64"
      ]
     },
     "execution_count": 307,
     "metadata": {},
     "output_type": "execute_result"
    }
   ],
   "source": [
    "round(df[mask].groupby(['year','month'],dropna=False).sum()['amount'])"
   ]
  },
  {
   "cell_type": "code",
   "execution_count": 309,
   "id": "d9e4016f",
   "metadata": {},
   "outputs": [
    {
     "data": {
      "text/html": [
       "<div>\n",
       "<style scoped>\n",
       "    .dataframe tbody tr th:only-of-type {\n",
       "        vertical-align: middle;\n",
       "    }\n",
       "\n",
       "    .dataframe tbody tr th {\n",
       "        vertical-align: top;\n",
       "    }\n",
       "\n",
       "    .dataframe thead th {\n",
       "        text-align: right;\n",
       "    }\n",
       "</style>\n",
       "<table border=\"1\" class=\"dataframe\">\n",
       "  <thead>\n",
       "    <tr style=\"text-align: right;\">\n",
       "      <th></th>\n",
       "      <th>id</th>\n",
       "      <th>amount</th>\n",
       "      <th>status</th>\n",
       "      <th>created_at</th>\n",
       "      <th>user_id</th>\n",
       "      <th>money_back_date</th>\n",
       "      <th>transfer_type</th>\n",
       "      <th>send_at</th>\n",
       "      <th>date</th>\n",
       "      <th>year</th>\n",
       "      <th>month</th>\n",
       "      <th>money_back_dateDate</th>\n",
       "      <th>tiempo_delta</th>\n",
       "    </tr>\n",
       "  </thead>\n",
       "  <tbody>\n",
       "    <tr>\n",
       "      <th>0</th>\n",
       "      <td>4405</td>\n",
       "      <td>100.0</td>\n",
       "      <td>rejected</td>\n",
       "      <td>2020-06-20 16:46:28.409042+00</td>\n",
       "      <td>14799.0</td>\n",
       "      <td>NaN</td>\n",
       "      <td>regular</td>\n",
       "      <td>NaN</td>\n",
       "      <td>2020-06-20 16:46:28.409042+00:00</td>\n",
       "      <td>2020</td>\n",
       "      <td>6</td>\n",
       "      <td>NaT</td>\n",
       "      <td>NaT</td>\n",
       "    </tr>\n",
       "    <tr>\n",
       "      <th>1</th>\n",
       "      <td>13107</td>\n",
       "      <td>100.0</td>\n",
       "      <td>approved</td>\n",
       "      <td>2020-08-19 16:20:22.768375+00</td>\n",
       "      <td>8020.0</td>\n",
       "      <td>2020-09-24 22:23:28.213168+00</td>\n",
       "      <td>regular</td>\n",
       "      <td>2020-08-26 16:20:22.631568+00</td>\n",
       "      <td>2020-08-19 16:20:22.768375+00:00</td>\n",
       "      <td>2020</td>\n",
       "      <td>8</td>\n",
       "      <td>2020-09-24 22:23:28.213168+00:00</td>\n",
       "      <td>36 days 06:03:05.444793</td>\n",
       "    </tr>\n",
       "    <tr>\n",
       "      <th>2</th>\n",
       "      <td>11984</td>\n",
       "      <td>50.0</td>\n",
       "      <td>approved</td>\n",
       "      <td>2020-08-11 13:23:12.220906+00</td>\n",
       "      <td>27793.0</td>\n",
       "      <td>2020-11-19 23:00:00+00</td>\n",
       "      <td>instant</td>\n",
       "      <td>2020-08-18 13:23:12.220516+00</td>\n",
       "      <td>2020-08-11 13:23:12.220906+00:00</td>\n",
       "      <td>2020</td>\n",
       "      <td>8</td>\n",
       "      <td>2020-11-19 23:00:00+00:00</td>\n",
       "      <td>100 days 09:36:47.779094</td>\n",
       "    </tr>\n",
       "    <tr>\n",
       "      <th>3</th>\n",
       "      <td>11322</td>\n",
       "      <td>50.0</td>\n",
       "      <td>approved</td>\n",
       "      <td>2020-08-07 11:01:30.51934+00</td>\n",
       "      <td>15409.0</td>\n",
       "      <td>2020-08-29 22:12:23.812361+00</td>\n",
       "      <td>instant</td>\n",
       "      <td>2020-08-14 11:01:30.518974+00</td>\n",
       "      <td>2020-08-07 11:01:30.519340+00:00</td>\n",
       "      <td>2020</td>\n",
       "      <td>8</td>\n",
       "      <td>2020-08-29 22:12:23.812361+00:00</td>\n",
       "      <td>22 days 11:10:53.293021</td>\n",
       "    </tr>\n",
       "    <tr>\n",
       "      <th>4</th>\n",
       "      <td>16755</td>\n",
       "      <td>50.0</td>\n",
       "      <td>rejected</td>\n",
       "      <td>2020-09-18 13:08:34.789948+00</td>\n",
       "      <td>39701.0</td>\n",
       "      <td>NaN</td>\n",
       "      <td>regular</td>\n",
       "      <td>2020-09-25 13:08:34.765418+00</td>\n",
       "      <td>2020-09-18 13:08:34.789948+00:00</td>\n",
       "      <td>2020</td>\n",
       "      <td>9</td>\n",
       "      <td>NaT</td>\n",
       "      <td>NaT</td>\n",
       "    </tr>\n",
       "  </tbody>\n",
       "</table>\n",
       "</div>"
      ],
      "text/plain": [
       "      id  amount    status                     created_at  user_id  \\\n",
       "0   4405   100.0  rejected  2020-06-20 16:46:28.409042+00  14799.0   \n",
       "1  13107   100.0  approved  2020-08-19 16:20:22.768375+00   8020.0   \n",
       "2  11984    50.0  approved  2020-08-11 13:23:12.220906+00  27793.0   \n",
       "3  11322    50.0  approved   2020-08-07 11:01:30.51934+00  15409.0   \n",
       "4  16755    50.0  rejected  2020-09-18 13:08:34.789948+00  39701.0   \n",
       "\n",
       "                 money_back_date transfer_type                        send_at  \\\n",
       "0                            NaN       regular                            NaN   \n",
       "1  2020-09-24 22:23:28.213168+00       regular  2020-08-26 16:20:22.631568+00   \n",
       "2         2020-11-19 23:00:00+00       instant  2020-08-18 13:23:12.220516+00   \n",
       "3  2020-08-29 22:12:23.812361+00       instant  2020-08-14 11:01:30.518974+00   \n",
       "4                            NaN       regular  2020-09-25 13:08:34.765418+00   \n",
       "\n",
       "                              date  year  month  \\\n",
       "0 2020-06-20 16:46:28.409042+00:00  2020      6   \n",
       "1 2020-08-19 16:20:22.768375+00:00  2020      8   \n",
       "2 2020-08-11 13:23:12.220906+00:00  2020      8   \n",
       "3 2020-08-07 11:01:30.519340+00:00  2020      8   \n",
       "4 2020-09-18 13:08:34.789948+00:00  2020      9   \n",
       "\n",
       "               money_back_dateDate             tiempo_delta  \n",
       "0                              NaT                      NaT  \n",
       "1 2020-09-24 22:23:28.213168+00:00  36 days 06:03:05.444793  \n",
       "2        2020-11-19 23:00:00+00:00 100 days 09:36:47.779094  \n",
       "3 2020-08-29 22:12:23.812361+00:00  22 days 11:10:53.293021  \n",
       "4                              NaT                      NaT  "
      ]
     },
     "execution_count": 309,
     "metadata": {},
     "output_type": "execute_result"
    }
   ],
   "source": [
    "df.head()"
   ]
  },
  {
   "cell_type": "code",
   "execution_count": 311,
   "id": "06f21433",
   "metadata": {},
   "outputs": [],
   "source": [
    "columnName=['Name','UID','totalUsers','newUsers','uniqueUsers','requestedAmount','percPerUserAmount','acceptedPaid','acceptedUnpaid','returnTime','realBudget','predictedBudget']"
   ]
  },
  {
   "cell_type": "code",
   "execution_count": 312,
   "id": "36252367",
   "metadata": {},
   "outputs": [
    {
     "data": {
      "text/plain": [
       "0        1.0\n",
       "1      264.0\n",
       "2      206.0\n",
       "3      174.0\n",
       "4      220.0\n",
       "5      424.0\n",
       "6      746.0\n",
       "7     2199.0\n",
       "8     2860.0\n",
       "9     2711.0\n",
       "10    3742.0\n",
       "Name: totalUser, dtype: float64"
      ]
     },
     "execution_count": 312,
     "metadata": {},
     "output_type": "execute_result"
    }
   ],
   "source": [
    "usuarioTotal['totalUser']"
   ]
  },
  {
   "cell_type": "code",
   "execution_count": 558,
   "id": "693a8c24",
   "metadata": {},
   "outputs": [],
   "source": []
  },
  {
   "cell_type": "code",
   "execution_count": 945,
   "id": "aebe7089",
   "metadata": {},
   "outputs": [],
   "source": [
    "import warnings\n",
    "import itertools\n",
    "import numpy as np\n",
    "import matplotlib.pyplot as plt\n",
    "import pandas as pd\n",
    "import statsmodels.api as sm\n",
    "import matplotlib\n",
    "import pmdarima as pm\n",
    "\n",
    "plt.style.use('fivethirtyeight')\n",
    "import pandas as pd\n",
    "import statsmodels.api as sm\n",
    "import matplotlib\n",
    "matplotlib.rcParams['axes.labelsize'] = 14\n",
    "matplotlib.rcParams['xtick.labelsize'] = 12\n",
    "matplotlib.rcParams['ytick.labelsize'] = 12\n",
    "matplotlib.rcParams['text.color'] = 'g'\n"
   ]
  },
  {
   "cell_type": "code",
   "execution_count": 961,
   "id": "39690a1b",
   "metadata": {},
   "outputs": [],
   "source": [
    "timeSeriesDF_day=pd.DataFrame()"
   ]
  },
  {
   "cell_type": "code",
   "execution_count": 962,
   "id": "319eb67b",
   "metadata": {},
   "outputs": [],
   "source": [
    "timeSeriesDF_day['date']=df['date']"
   ]
  },
  {
   "cell_type": "code",
   "execution_count": 963,
   "id": "33fedeca",
   "metadata": {},
   "outputs": [],
   "source": [
    "timeSeriesDF_day['amount']=df['amount']"
   ]
  },
  {
   "cell_type": "code",
   "execution_count": 964,
   "id": "3b8617f8",
   "metadata": {},
   "outputs": [],
   "source": [
    "timeSeriesDF_day['year']=timeSeriesDF_day['date'].dt.year"
   ]
  },
  {
   "cell_type": "code",
   "execution_count": 965,
   "id": "665ef63a",
   "metadata": {},
   "outputs": [],
   "source": [
    "timeSeriesDF_day['month']=timeSeriesDF_day['date'].dt.month"
   ]
  },
  {
   "cell_type": "code",
   "execution_count": 966,
   "id": "28fc0682",
   "metadata": {},
   "outputs": [],
   "source": [
    "timeSeriesDF_day['day']=timeSeriesDF_day['date'].dt.day"
   ]
  },
  {
   "cell_type": "code",
   "execution_count": 967,
   "id": "aac23db7",
   "metadata": {},
   "outputs": [],
   "source": [
    "timeSeriesDF_day['ymd']=timeSeriesDF_day['year'].astype('str')+'-'+timeSeriesDF_day['month'].astype('str')+'-'+timeSeriesDF_day['day'].astype('str')"
   ]
  },
  {
   "cell_type": "code",
   "execution_count": 968,
   "id": "a3545a5c",
   "metadata": {},
   "outputs": [],
   "source": [
    "timeSeriesDF_day['ymd']=pd.to_datetime(timeSeriesDF_day['ymd'])"
   ]
  },
  {
   "cell_type": "code",
   "execution_count": 969,
   "id": "f22a4471",
   "metadata": {},
   "outputs": [],
   "source": [
    "timeSeriesDF_day=timeSeriesDF_day.groupby(['ymd']).sum().reset_index()"
   ]
  },
  {
   "cell_type": "code",
   "execution_count": 970,
   "id": "17240f29",
   "metadata": {},
   "outputs": [],
   "source": [
    "totalByDay=timeSeriesDF_day.set_index(['ymd'] ).asfreq('D')"
   ]
  },
  {
   "cell_type": "code",
   "execution_count": 971,
   "id": "749d233b",
   "metadata": {},
   "outputs": [
    {
     "data": {
      "text/html": [
       "<div>\n",
       "<style scoped>\n",
       "    .dataframe tbody tr th:only-of-type {\n",
       "        vertical-align: middle;\n",
       "    }\n",
       "\n",
       "    .dataframe tbody tr th {\n",
       "        vertical-align: top;\n",
       "    }\n",
       "\n",
       "    .dataframe thead th {\n",
       "        text-align: right;\n",
       "    }\n",
       "</style>\n",
       "<table border=\"1\" class=\"dataframe\">\n",
       "  <thead>\n",
       "    <tr style=\"text-align: right;\">\n",
       "      <th></th>\n",
       "      <th>amount</th>\n",
       "      <th>year</th>\n",
       "      <th>month</th>\n",
       "      <th>day</th>\n",
       "    </tr>\n",
       "    <tr>\n",
       "      <th>ymd</th>\n",
       "      <th></th>\n",
       "      <th></th>\n",
       "      <th></th>\n",
       "      <th></th>\n",
       "    </tr>\n",
       "  </thead>\n",
       "  <tbody>\n",
       "    <tr>\n",
       "      <th>2019-11-19</th>\n",
       "      <td>1.0</td>\n",
       "      <td>2019.0</td>\n",
       "      <td>11.0</td>\n",
       "      <td>19.0</td>\n",
       "    </tr>\n",
       "    <tr>\n",
       "      <th>2019-11-20</th>\n",
       "      <td>NaN</td>\n",
       "      <td>NaN</td>\n",
       "      <td>NaN</td>\n",
       "      <td>NaN</td>\n",
       "    </tr>\n",
       "    <tr>\n",
       "      <th>2019-11-21</th>\n",
       "      <td>NaN</td>\n",
       "      <td>NaN</td>\n",
       "      <td>NaN</td>\n",
       "      <td>NaN</td>\n",
       "    </tr>\n",
       "    <tr>\n",
       "      <th>2019-11-22</th>\n",
       "      <td>NaN</td>\n",
       "      <td>NaN</td>\n",
       "      <td>NaN</td>\n",
       "      <td>NaN</td>\n",
       "    </tr>\n",
       "    <tr>\n",
       "      <th>2019-11-23</th>\n",
       "      <td>NaN</td>\n",
       "      <td>NaN</td>\n",
       "      <td>NaN</td>\n",
       "      <td>NaN</td>\n",
       "    </tr>\n",
       "    <tr>\n",
       "      <th>...</th>\n",
       "      <td>...</td>\n",
       "      <td>...</td>\n",
       "      <td>...</td>\n",
       "      <td>...</td>\n",
       "    </tr>\n",
       "    <tr>\n",
       "      <th>2020-05-07</th>\n",
       "      <td>1490.0</td>\n",
       "      <td>32320.0</td>\n",
       "      <td>80.0</td>\n",
       "      <td>112.0</td>\n",
       "    </tr>\n",
       "    <tr>\n",
       "      <th>2020-05-08</th>\n",
       "      <td>1691.0</td>\n",
       "      <td>36360.0</td>\n",
       "      <td>90.0</td>\n",
       "      <td>144.0</td>\n",
       "    </tr>\n",
       "    <tr>\n",
       "      <th>2020-05-09</th>\n",
       "      <td>1600.0</td>\n",
       "      <td>32320.0</td>\n",
       "      <td>80.0</td>\n",
       "      <td>144.0</td>\n",
       "    </tr>\n",
       "    <tr>\n",
       "      <th>2020-05-10</th>\n",
       "      <td>1100.0</td>\n",
       "      <td>22220.0</td>\n",
       "      <td>55.0</td>\n",
       "      <td>110.0</td>\n",
       "    </tr>\n",
       "    <tr>\n",
       "      <th>2020-05-11</th>\n",
       "      <td>1650.0</td>\n",
       "      <td>34340.0</td>\n",
       "      <td>85.0</td>\n",
       "      <td>187.0</td>\n",
       "    </tr>\n",
       "  </tbody>\n",
       "</table>\n",
       "<p>175 rows × 4 columns</p>\n",
       "</div>"
      ],
      "text/plain": [
       "            amount     year  month    day\n",
       "ymd                                      \n",
       "2019-11-19     1.0   2019.0   11.0   19.0\n",
       "2019-11-20     NaN      NaN    NaN    NaN\n",
       "2019-11-21     NaN      NaN    NaN    NaN\n",
       "2019-11-22     NaN      NaN    NaN    NaN\n",
       "2019-11-23     NaN      NaN    NaN    NaN\n",
       "...            ...      ...    ...    ...\n",
       "2020-05-07  1490.0  32320.0   80.0  112.0\n",
       "2020-05-08  1691.0  36360.0   90.0  144.0\n",
       "2020-05-09  1600.0  32320.0   80.0  144.0\n",
       "2020-05-10  1100.0  22220.0   55.0  110.0\n",
       "2020-05-11  1650.0  34340.0   85.0  187.0\n",
       "\n",
       "[175 rows x 4 columns]"
      ]
     },
     "execution_count": 971,
     "metadata": {},
     "output_type": "execute_result"
    }
   ],
   "source": [
    "totalByDay.head(175)"
   ]
  },
  {
   "cell_type": "code",
   "execution_count": 972,
   "id": "908c5168",
   "metadata": {},
   "outputs": [],
   "source": [
    "totalByDay=totalByDay.drop(['year','month','day'], axis=1)"
   ]
  },
  {
   "cell_type": "code",
   "execution_count": 973,
   "id": "dc18691e",
   "metadata": {},
   "outputs": [],
   "source": [
    "totalByDay.drop(index=totalByDay.index[0:20], \n",
    "        axis=0, \n",
    "        inplace=True)"
   ]
  },
  {
   "cell_type": "code",
   "execution_count": 974,
   "id": "a28989cd",
   "metadata": {},
   "outputs": [
    {
     "data": {
      "text/plain": [
       "<AxesSubplot:xlabel='ymd'>"
      ]
     },
     "execution_count": 974,
     "metadata": {},
     "output_type": "execute_result"
    },
    {
     "data": {
      "image/png": "[encoded data removed]",
      "text/plain": [
       "<Figure size 1296x576 with 1 Axes>"
      ]
     },
     "metadata": {},
     "output_type": "display_data"
    }
   ],
   "source": [
    "totalByDay.plot()"
   ]
  },
  {
   "cell_type": "code",
   "execution_count": 975,
   "id": "d1a032c3",
   "metadata": {},
   "outputs": [
    {
     "data": {
      "image/png": "[encoded data removed]",
      "text/plain": [
       "<Figure size 1296x576 with 4 Axes>"
      ]
     },
     "metadata": {},
     "output_type": "display_data"
    }
   ],
   "source": [
    "from pylab import rcParams\n",
    "rcParams['figure.figsize'] = 18, 8\n",
    "decomposition = sm.tsa.seasonal_decompose(totalByDay, model='additive')\n",
    "fig = decomposition.plot()\n",
    "plt.show()"
   ]
  },
  {
   "cell_type": "code",
   "execution_count": 919,
   "id": "6bc5c0f9",
   "metadata": {},
   "outputs": [],
   "source": [
    "from statsmodels.tsa.stattools import adfuller\n",
    "adf, pvalue, usedlag_, nobs_, critical_values_, icbest_ = adfuller(totalByDay)"
   ]
  },
  {
   "cell_type": "code",
   "execution_count": 920,
   "id": "6255358f",
   "metadata": {},
   "outputs": [
    {
     "data": {
      "text/plain": [
       "-1.1321995248050678"
      ]
     },
     "execution_count": 920,
     "metadata": {},
     "output_type": "execute_result"
    }
   ],
   "source": [
    "adf"
   ]
  },
  {
   "cell_type": "code",
   "execution_count": 921,
   "id": "26ff2d4a",
   "metadata": {},
   "outputs": [
    {
     "data": {
      "text/plain": [
       "0.7020618275391763"
      ]
     },
     "execution_count": 921,
     "metadata": {},
     "output_type": "execute_result"
    }
   ],
   "source": [
    "pvalue"
   ]
  },
  {
   "cell_type": "code",
   "execution_count": 648,
   "id": "62b1de19",
   "metadata": {},
   "outputs": [
    {
     "data": {
      "text/plain": [
       "amount    0\n",
       "dtype: int64"
      ]
     },
     "execution_count": 648,
     "metadata": {},
     "output_type": "execute_result"
    }
   ],
   "source": [
    "totalByDay.isnull().sum()\n"
   ]
  },
  {
   "cell_type": "code",
   "execution_count": 895,
   "id": "f7e8fc14",
   "metadata": {},
   "outputs": [],
   "source": [
    "diffTotalByDay= pd.DataFrame()"
   ]
  },
  {
   "cell_type": "code",
   "execution_count": 896,
   "id": "663900b9",
   "metadata": {},
   "outputs": [],
   "source": [
    "diffTotalByDay['amount']=totalByDay['amount']-totalByDay['amount'].shift(7)\n"
   ]
  },
  {
   "cell_type": "code",
   "execution_count": 897,
   "id": "797d9056",
   "metadata": {},
   "outputs": [
    {
     "data": {
      "text/plain": [
       "<AxesSubplot:xlabel='ymd'>"
      ]
     },
     "execution_count": 897,
     "metadata": {},
     "output_type": "execute_result"
    },
    {
     "data": {
      "image/png": "[encoded data removed]",
      "text/plain": [
       "<Figure size 1296x576 with 1 Axes>"
      ]
     },
     "metadata": {},
     "output_type": "display_data"
    }
   ],
   "source": [
    "diffTotalByDay['amount'].plot()\n"
   ]
  },
  {
   "cell_type": "code",
   "execution_count": 898,
   "id": "6088982e",
   "metadata": {},
   "outputs": [],
   "source": [
    "totalByDay.dropna(inplace=True)"
   ]
  },
  {
   "cell_type": "code",
   "execution_count": 899,
   "id": "15ba4d3f",
   "metadata": {},
   "outputs": [],
   "source": [
    "adf, pvalue, usedlag_, nobs_, critical_values_, icbest_ = adfuller(totalByDay)"
   ]
  },
  {
   "cell_type": "code",
   "execution_count": 900,
   "id": "72e23326",
   "metadata": {},
   "outputs": [
    {
     "data": {
      "text/plain": [
       "0.7020618275391763"
      ]
     },
     "execution_count": 900,
     "metadata": {},
     "output_type": "execute_result"
    }
   ],
   "source": [
    "pvalue"
   ]
  },
  {
   "cell_type": "code",
   "execution_count": 901,
   "id": "245beaab",
   "metadata": {},
   "outputs": [
    {
     "data": {
      "text/html": [
       "<div>\n",
       "<style scoped>\n",
       "    .dataframe tbody tr th:only-of-type {\n",
       "        vertical-align: middle;\n",
       "    }\n",
       "\n",
       "    .dataframe tbody tr th {\n",
       "        vertical-align: top;\n",
       "    }\n",
       "\n",
       "    .dataframe thead th {\n",
       "        text-align: right;\n",
       "    }\n",
       "</style>\n",
       "<table border=\"1\" class=\"dataframe\">\n",
       "  <thead>\n",
       "    <tr style=\"text-align: right;\">\n",
       "      <th></th>\n",
       "      <th>amount</th>\n",
       "    </tr>\n",
       "    <tr>\n",
       "      <th>ymd</th>\n",
       "      <th></th>\n",
       "    </tr>\n",
       "  </thead>\n",
       "  <tbody>\n",
       "    <tr>\n",
       "      <th>2019-12-09</th>\n",
       "      <td>100.0</td>\n",
       "    </tr>\n",
       "    <tr>\n",
       "      <th>2019-12-10</th>\n",
       "      <td>1609.0</td>\n",
       "    </tr>\n",
       "    <tr>\n",
       "      <th>2019-12-11</th>\n",
       "      <td>2200.0</td>\n",
       "    </tr>\n",
       "    <tr>\n",
       "      <th>2019-12-12</th>\n",
       "      <td>2438.0</td>\n",
       "    </tr>\n",
       "    <tr>\n",
       "      <th>2019-12-13</th>\n",
       "      <td>1900.0</td>\n",
       "    </tr>\n",
       "    <tr>\n",
       "      <th>...</th>\n",
       "      <td>...</td>\n",
       "    </tr>\n",
       "    <tr>\n",
       "      <th>2020-09-26</th>\n",
       "      <td>10422.0</td>\n",
       "    </tr>\n",
       "    <tr>\n",
       "      <th>2020-09-27</th>\n",
       "      <td>6785.0</td>\n",
       "    </tr>\n",
       "    <tr>\n",
       "      <th>2020-09-28</th>\n",
       "      <td>10450.0</td>\n",
       "    </tr>\n",
       "    <tr>\n",
       "      <th>2020-09-29</th>\n",
       "      <td>15920.0</td>\n",
       "    </tr>\n",
       "    <tr>\n",
       "      <th>2020-09-30</th>\n",
       "      <td>10600.0</td>\n",
       "    </tr>\n",
       "  </tbody>\n",
       "</table>\n",
       "<p>297 rows × 1 columns</p>\n",
       "</div>"
      ],
      "text/plain": [
       "             amount\n",
       "ymd                \n",
       "2019-12-09    100.0\n",
       "2019-12-10   1609.0\n",
       "2019-12-11   2200.0\n",
       "2019-12-12   2438.0\n",
       "2019-12-13   1900.0\n",
       "...             ...\n",
       "2020-09-26  10422.0\n",
       "2020-09-27   6785.0\n",
       "2020-09-28  10450.0\n",
       "2020-09-29  15920.0\n",
       "2020-09-30  10600.0\n",
       "\n",
       "[297 rows x 1 columns]"
      ]
     },
     "execution_count": 901,
     "metadata": {},
     "output_type": "execute_result"
    }
   ],
   "source": [
    "totalByDay"
   ]
  },
  {
   "cell_type": "code",
   "execution_count": 902,
   "id": "a6131c8c",
   "metadata": {},
   "outputs": [
    {
     "name": "stdout",
     "output_type": "stream",
     "text": [
      "Examples of parameter for SARIMA...\n",
      "SARIMAX: (0, 0, 1) x (0, 0, 1, 30)\n",
      "SARIMAX: (0, 0, 1) x (0, 1, 0, 30)\n",
      "SARIMAX: (0, 1, 0) x (0, 1, 1, 30)\n",
      "SARIMAX: (0, 1, 0) x (1, 0, 0, 30)\n"
     ]
    }
   ],
   "source": [
    "p = d = q = range(0, 2)\n",
    "pdq = list(itertools.product(p, d, q))\n",
    "seasonal_pdq = [(x[0], x[1], x[2], 30) for x in list(itertools.product(p, d, q))]\n",
    "print('Examples of parameter for SARIMA...')\n",
    "print('SARIMAX: {} x {}'.format(pdq[1], seasonal_pdq[1]))\n",
    "print('SARIMAX: {} x {}'.format(pdq[1], seasonal_pdq[2]))\n",
    "print('SARIMAX: {} x {}'.format(pdq[2], seasonal_pdq[3]))\n",
    "print('SARIMAX: {} x {}'.format(pdq[2], seasonal_pdq[4]))"
   ]
  },
  {
   "cell_type": "code",
   "execution_count": 903,
   "id": "7763dc7b",
   "metadata": {},
   "outputs": [
    {
     "name": "stdout",
     "output_type": "stream",
     "text": [
      "ARIMA(0, 0, 0)x(0, 0, 0, 30)30 - AIC:6086.91245057806\n",
      "ARIMA(0, 0, 0)x(0, 0, 1, 30)30 - AIC:5356.687650327227\n",
      "ARIMA(0, 0, 0)x(0, 1, 0, 30)30 - AIC:5252.055879848915\n",
      "ARIMA(0, 0, 0)x(0, 1, 1, 30)30 - AIC:4680.499475759333\n",
      "ARIMA(0, 0, 0)x(1, 0, 0, 30)30 - AIC:5269.217287716376\n",
      "ARIMA(0, 0, 0)x(1, 0, 1, 30)30 - AIC:5193.411665717299\n",
      "ARIMA(0, 0, 0)x(1, 1, 0, 30)30 - AIC:4690.100468814855\n",
      "ARIMA(0, 0, 0)x(1, 1, 1, 30)30 - AIC:4679.7031955665225\n",
      "ARIMA(0, 0, 1)x(0, 0, 0, 30)30 - AIC:5863.696477345472\n",
      "ARIMA(0, 0, 1)x(0, 0, 1, 30)30 - AIC:5250.141954121617\n",
      "ARIMA(0, 0, 1)x(0, 1, 0, 30)30 - AIC:5111.10528308104\n",
      "ARIMA(0, 0, 1)x(0, 1, 1, 30)30 - AIC:4521.098754609771\n",
      "ARIMA(0, 0, 1)x(1, 0, 0, 30)30 - AIC:5131.524227190342\n",
      "ARIMA(0, 0, 1)x(1, 0, 1, 30)30 - AIC:5051.343014381208\n",
      "ARIMA(0, 0, 1)x(1, 1, 0, 30)30 - AIC:4565.447407562275\n",
      "ARIMA(0, 0, 1)x(1, 1, 1, 30)30 - AIC:4522.597122182409\n",
      "ARIMA(0, 1, 0)x(0, 0, 0, 30)30 - AIC:5483.893299375739\n",
      "ARIMA(0, 1, 0)x(0, 0, 1, 30)30 - AIC:4957.759214573762\n",
      "ARIMA(0, 1, 0)x(0, 1, 0, 30)30 - AIC:5154.526343396634\n",
      "ARIMA(0, 1, 0)x(0, 1, 1, 30)30 - AIC:4494.396466304112\n",
      "ARIMA(0, 1, 0)x(1, 0, 0, 30)30 - AIC:4967.459732764249\n",
      "ARIMA(0, 1, 0)x(1, 0, 1, 30)30 - AIC:4949.940943164862\n",
      "ARIMA(0, 1, 0)x(1, 1, 0, 30)30 - AIC:4536.228269680511\n",
      "ARIMA(0, 1, 0)x(1, 1, 1, 30)30 - AIC:4430.3039108196435\n",
      "ARIMA(0, 1, 1)x(0, 0, 0, 30)30 - AIC:5468.083201799225\n",
      "ARIMA(0, 1, 1)x(0, 0, 1, 30)30 - AIC:4932.374504237458\n",
      "ARIMA(0, 1, 1)x(0, 1, 0, 30)30 - AIC:5137.980550285256\n",
      "ARIMA(0, 1, 1)x(0, 1, 1, 30)30 - AIC:4419.99374896524\n",
      "ARIMA(0, 1, 1)x(1, 0, 0, 30)30 - AIC:4969.885719464161\n",
      "ARIMA(0, 1, 1)x(1, 0, 1, 30)30 - AIC:4934.378762861954\n",
      "ARIMA(0, 1, 1)x(1, 1, 0, 30)30 - AIC:4544.610070545694\n",
      "ARIMA(0, 1, 1)x(1, 1, 1, 30)30 - AIC:4414.302091409915\n",
      "ARIMA(1, 0, 0)x(0, 0, 0, 30)30 - AIC:5494.434925477451\n",
      "ARIMA(1, 0, 0)x(0, 0, 1, 30)30 - AIC:4963.068010036818\n",
      "ARIMA(1, 0, 0)x(0, 1, 0, 30)30 - AIC:5121.149354652439\n",
      "ARIMA(1, 0, 0)x(0, 1, 1, 30)30 - AIC:4470.66752182305\n",
      "ARIMA(1, 0, 0)x(1, 0, 0, 30)30 - AIC:4963.8604575555055\n",
      "ARIMA(1, 0, 0)x(1, 0, 1, 30)30 - AIC:4964.815065588571\n",
      "ARIMA(1, 0, 0)x(1, 1, 0, 30)30 - AIC:4505.558357920991\n",
      "ARIMA(1, 0, 0)x(1, 1, 1, 30)30 - AIC:4444.188124337041\n",
      "ARIMA(1, 0, 1)x(0, 0, 0, 30)30 - AIC:5478.3019078982525\n",
      "ARIMA(1, 0, 1)x(0, 0, 1, 30)30 - AIC:4947.316884320521\n",
      "ARIMA(1, 0, 1)x(0, 1, 0, 30)30 - AIC:5090.060273328965\n",
      "ARIMA(1, 0, 1)x(0, 1, 1, 30)30 - AIC:4450.174580672694\n",
      "ARIMA(1, 0, 1)x(1, 0, 0, 30)30 - AIC:4965.646138201615\n",
      "ARIMA(1, 0, 1)x(1, 0, 1, 30)30 - AIC:4949.0700743945235\n",
      "ARIMA(1, 0, 1)x(1, 1, 0, 30)30 - AIC:4502.620867028819\n",
      "ARIMA(1, 0, 1)x(1, 1, 1, 30)30 - AIC:4448.088228205105\n",
      "ARIMA(1, 1, 0)x(0, 0, 0, 30)30 - AIC:5485.809530608362\n",
      "ARIMA(1, 1, 0)x(0, 0, 1, 30)30 - AIC:4951.0588480609\n",
      "ARIMA(1, 1, 0)x(0, 1, 0, 30)30 - AIC:5156.504219255322\n",
      "ARIMA(1, 1, 0)x(0, 1, 1, 30)30 - AIC:4437.89855219329\n",
      "ARIMA(1, 1, 0)x(1, 0, 0, 30)30 - AIC:4952.518341331906\n",
      "ARIMA(1, 1, 0)x(1, 0, 1, 30)30 - AIC:4952.374722437141\n",
      "ARIMA(1, 1, 0)x(1, 1, 0, 30)30 - AIC:4525.824565631153\n",
      "ARIMA(1, 1, 0)x(1, 1, 1, 30)30 - AIC:4432.263446935295\n",
      "ARIMA(1, 1, 1)x(0, 0, 0, 30)30 - AIC:5424.7410631821485\n",
      "ARIMA(1, 1, 1)x(0, 0, 1, 30)30 - AIC:4899.718691097424\n",
      "ARIMA(1, 1, 1)x(0, 1, 0, 30)30 - AIC:5087.103695928137\n",
      "ARIMA(1, 1, 1)x(0, 1, 1, 30)30 - AIC:4379.1119093588295\n",
      "ARIMA(1, 1, 1)x(1, 0, 0, 30)30 - AIC:4915.069316603915\n",
      "ARIMA(1, 1, 1)x(1, 0, 1, 30)30 - AIC:4899.039836153159\n",
      "ARIMA(1, 1, 1)x(1, 1, 0, 30)30 - AIC:4493.564450429168\n",
      "ARIMA(1, 1, 1)x(1, 1, 1, 30)30 - AIC:4376.142566328317\n"
     ]
    }
   ],
   "source": [
    "for param in pdq:\n",
    "    for param_seasonal in seasonal_pdq:\n",
    "        try:\n",
    "            mod = sm.tsa.statespace.SARIMAX(totalByDay,order=param,seasonal_order=param_seasonal,enforce_stationarity=False,enforce_invertibility=False)\n",
    "            results = mod.fit()\n",
    "            print('ARIMA{}x{}30 - AIC:{}'.format(param,param_seasonal,results.aic))\n",
    "        except: \n",
    "            continue"
   ]
  },
  {
   "cell_type": "code",
   "execution_count": null,
   "id": "8f85bd46",
   "metadata": {},
   "outputs": [],
   "source": [
    "from tbats import TBATS, BATS\n",
    "\n",
    "estimator = TBATS(seasonal_periods=(7, 30))\n",
    "model = estimator.fit(totalByDay)\n",
    "# Forecast 365 days ahead\n"
   ]
  },
  {
   "cell_type": "code",
   "execution_count": 980,
   "id": "f4a3653e",
   "metadata": {},
   "outputs": [],
   "source": [
    "y_forecast = model.forecast(steps=31)"
   ]
  },
  {
   "cell_type": "code",
   "execution_count": 981,
   "id": "037eb663",
   "metadata": {},
   "outputs": [
    {
     "data": {
      "text/plain": [
       "380972.0053859586"
      ]
     },
     "execution_count": 981,
     "metadata": {},
     "output_type": "execute_result"
    }
   ],
   "source": [
    "y_forecast.sum()"
   ]
  },
  {
   "cell_type": "code",
   "execution_count": 939,
   "id": "8d35eb62",
   "metadata": {},
   "outputs": [
    {
     "data": {
      "text/plain": [
       "5826.860185077836"
      ]
     },
     "execution_count": 939,
     "metadata": {},
     "output_type": "execute_result"
    }
   ],
   "source": [
    "model.aic"
   ]
  },
  {
   "cell_type": "code",
   "execution_count": 944,
   "id": "10f4b1e7",
   "metadata": {},
   "outputs": [
    {
     "data": {
      "text/plain": [
       "array([-7.69506138e+02,  1.16145456e+03,  8.42646538e+02,  9.01422402e+02,\n",
       "        4.14584962e+02, -3.82525096e+02,  4.30745603e+02,  6.81691008e+02,\n",
       "        1.13469760e+01, -1.52173312e+02,  4.40230073e+02, -7.97615991e+02,\n",
       "        2.34800354e+02,  2.24729205e+02, -4.32542815e+02, -6.88820826e+02,\n",
       "       -6.59056364e+02,  5.11223557e+02,  1.00938752e+02,  5.11258368e+02,\n",
       "        4.47454203e+01,  8.38878117e+01, -1.44376023e+02, -2.08341805e+02,\n",
       "       -4.26286311e+02, -1.00964229e+02, -2.29463172e+02,  3.20697438e+02,\n",
       "        6.73714982e+02, -1.13275752e+01, -2.08862215e+02, -1.65256322e+02,\n",
       "       -5.12295176e+02,  6.45159785e+02, -4.61600117e+02, -6.72984322e+01,\n",
       "       -2.03628025e+02,  2.61679156e+02,  1.02960811e+02,  9.34775156e+01,\n",
       "       -7.92895164e+01, -1.28173319e+02,  2.52997045e+01,  1.10468593e+01,\n",
       "       -1.32380597e+02,  4.19009329e+02,  1.31380543e+02, -3.17096490e+01,\n",
       "        4.31861394e+01,  1.45781614e+02,  1.55850235e+03,  6.15106886e+02,\n",
       "        6.39068429e+02, -1.18930951e+02,  1.54972505e+02, -3.12265786e+02,\n",
       "       -2.35211611e+02,  1.04898246e+02, -2.08635653e+02,  3.62422817e+02,\n",
       "       -2.04733872e+02,  2.16329417e+01, -3.56545162e+02,  4.07856618e+02,\n",
       "       -4.40735150e+02, -2.27283406e+02, -2.06572491e+02, -2.51306521e+02,\n",
       "       -1.07825713e+02,  3.46013259e+01,  2.22628264e+02, -2.46601013e+01,\n",
       "       -3.92879258e+02,  4.29728974e+02, -2.41936154e+02,  9.69920820e+02,\n",
       "       -2.21093457e+01, -6.39604415e+01, -9.41372402e+01,  2.26086643e+02,\n",
       "        5.03446590e+02,  4.83446440e+02, -1.23266854e+02,  2.10627420e+01,\n",
       "        2.60167477e+02,  1.43589968e+02, -6.13818645e+02, -1.59610148e+02,\n",
       "        4.96279643e+02,  3.94311454e+02,  1.03589465e+02,  4.40875800e+01,\n",
       "       -4.86094775e+02,  4.83103143e+02, -1.97610337e+02, -6.56175935e+02,\n",
       "        4.41763817e+02,  4.04842308e+02,  1.46335030e+03,  4.45773601e+01,\n",
       "       -4.26581040e+02, -7.92620743e+01, -5.73227275e+02,  2.78281742e+02,\n",
       "       -1.50491901e+02, -1.76356301e+02, -3.49378131e+02, -1.71781268e+01,\n",
       "        2.13155359e+02, -1.44411276e+02, -2.49221805e+01,  1.42995533e+02,\n",
       "        1.02990122e+02, -5.92870927e+02,  2.57733517e+02,  4.62358884e+02,\n",
       "        8.21114363e+01,  2.75211611e+02,  3.27377847e+01, -8.94511440e+00,\n",
       "        7.25488715e+02,  1.32726106e+03,  4.99526980e+02, -1.50976651e+02,\n",
       "       -1.20461599e+02, -3.89508808e+02, -1.34803296e+02,  8.96392354e+02,\n",
       "        1.58398474e+03,  1.48003810e+03, -2.20009086e+01, -2.82925541e+02,\n",
       "       -2.38916511e+02,  5.47753802e+02, -1.01839411e+03,  2.79674950e+02,\n",
       "        9.09784891e+02,  1.55727593e+02, -3.05302016e+02,  1.61065654e+02,\n",
       "        3.69810236e+02,  1.18833327e+03,  1.22180163e+03,  5.12369504e+02,\n",
       "        4.04976401e+01, -5.44059010e+02, -1.58349017e+02, -2.62938636e+02,\n",
       "        8.65950748e+02, -9.79862994e+01, -1.19996780e+03, -2.01286289e+01,\n",
       "       -4.62228939e+01,  3.52621089e+01, -2.26906892e+02, -4.67446569e+02,\n",
       "        1.75996552e+03,  5.81641900e+02,  5.86580736e+03, -6.26676482e+01,\n",
       "       -1.52338985e+02,  7.85300335e+02,  4.99451429e+02, -1.50361291e+03,\n",
       "        8.24617349e+01, -1.14976294e+03, -4.66120133e+02, -1.86914896e+02,\n",
       "       -3.55012488e+01,  6.72017306e+02,  4.54536502e+01,  1.61835480e+03,\n",
       "        2.37782747e+03,  9.51116247e+02,  6.01584183e+02,  1.20176351e+02,\n",
       "        8.56936140e+01,  4.36958317e+02, -2.04764003e+02, -1.31742932e+03,\n",
       "        1.11571183e+03, -2.86982838e+01, -2.31693976e+02,  3.77237910e+03,\n",
       "        3.17851474e+03,  2.92008852e+03,  4.69842468e+03, -1.41765345e+03,\n",
       "       -5.59198057e+01,  1.05317764e+03,  2.07652524e+03,  6.56741753e+03,\n",
       "        7.75398225e+03,  3.35919388e+03, -2.26722205e+03,  2.54179170e+03,\n",
       "       -1.07978011e+03,  2.06244061e+03, -2.26533307e+02, -2.59471737e+03,\n",
       "       -9.97618875e+02, -1.79198337e+03, -2.67090785e+02, -7.64858724e+02,\n",
       "        6.84766523e+03, -8.80508529e+02,  7.54474502e+02,  1.70974622e+03,\n",
       "       -2.25820915e+03, -5.95987527e+02,  2.34040777e+02,  5.07053571e+03,\n",
       "        2.40429999e+03, -3.42225257e+03, -1.70756167e+03, -2.86508676e+03,\n",
       "       -1.48685693e+03,  3.05140398e+03, -5.16733305e+02,  1.36314324e+04,\n",
       "       -2.88900347e+03,  3.64147696e+03, -3.39240393e+03,  6.77657616e+02,\n",
       "        2.67009087e+03, -2.59778237e+03, -1.33361280e+03, -5.78957095e+03,\n",
       "        5.97474273e+02, -2.95685544e+03, -7.46369302e+02, -9.40099723e+02,\n",
       "        1.71911394e+03,  3.36064546e+03,  9.56705311e+02,  5.36055373e+03,\n",
       "       -4.46257729e+02,  1.45672042e+03, -5.30599515e+02, -1.12071309e+03,\n",
       "       -9.03091696e+01,  2.42004175e+03,  1.17534864e+03, -4.07533716e+03,\n",
       "       -1.22384279e+03,  9.59492664e+03,  4.39408676e+03, -1.70272267e+03,\n",
       "       -6.05278042e+03,  2.67146212e+03, -3.34741411e+03, -2.02781728e+03,\n",
       "        1.82813501e+03,  5.32031967e+02,  8.43834450e+03, -5.33475317e+03,\n",
       "       -3.83233038e+02,  2.09125731e+02, -1.65426189e+02, -1.27453810e+03,\n",
       "       -2.05287245e+03, -4.07838203e+03, -3.16848393e+03, -4.85453032e+02,\n",
       "        9.05359082e+02, -5.95573067e+02, -3.14713609e+02,  8.04935889e+02,\n",
       "        9.14697597e+01,  2.94241069e+03,  5.33103143e+03,  3.74425530e+03,\n",
       "        3.71149622e+03,  9.94862976e+02,  1.33673996e+03,  3.96465042e+03,\n",
       "       -4.03178500e+03,  6.99176649e+02, -1.80355659e+02, -1.39324870e+03,\n",
       "        2.60724147e+02,  2.60565960e+03,  1.55862669e+03, -5.29452641e+02,\n",
       "       -1.51492486e+03,  8.36968181e+02,  5.49577360e+02,  1.35443117e+03,\n",
       "        4.19342992e+03,  1.87500085e+03, -9.20042813e+02,  1.84019489e+03,\n",
       "        2.39841198e+02, -3.48296669e+02, -3.23821683e+01,  2.56007982e+03,\n",
       "       -3.93953638e+03])"
      ]
     },
     "execution_count": 944,
     "metadata": {},
     "output_type": "execute_result"
    }
   ],
   "source": [
    "model.resid"
   ]
  },
  {
   "cell_type": "code",
   "execution_count": 853,
   "id": "7a94c094",
   "metadata": {},
   "outputs": [
    {
     "data": {
      "text/plain": [
       "351150.87620191555"
      ]
     },
     "execution_count": 853,
     "metadata": {},
     "output_type": "execute_result"
    }
   ],
   "source": [
    "y_forecast.sum()"
   ]
  },
  {
   "cell_type": "code",
   "execution_count": 854,
   "id": "689108cd",
   "metadata": {},
   "outputs": [
    {
     "data": {
      "text/plain": [
       "5360.781077720985"
      ]
     },
     "execution_count": 854,
     "metadata": {},
     "output_type": "execute_result"
    }
   ],
   "source": [
    "model.aic"
   ]
  },
  {
   "cell_type": "code",
   "execution_count": 690,
   "id": "9343b145",
   "metadata": {},
   "outputs": [
    {
     "data": {
      "text/plain": [
       "'Use Box-Cox: True\\nUse trend: False\\nUse damped trend: False\\nSeasonal periods: [ 7. 30.]\\nSeasonal harmonics [3 1]\\nARMA errors (p, q): (2, 1)\\nBox-Cox Lambda 0.149941\\nSmoothing (Alpha): 0.233108\\nSeasonal Parameters (Gamma): [-1.85405045e-05  5.29313906e-07 -5.39856361e-05  2.03132596e-05]\\nAR coefficients [-5.39856361e-05  2.03132596e-05]\\nMA coefficients [0.3019371]\\nSeed vector [11.67981253 -0.52060584  0.17328842  0.17302471  0.86740083  0.42420378\\n  0.25772334  0.2243118   0.61450582  0.          0.          0.        ]\\n\\nAIC 5826.860185'"
      ]
     },
     "execution_count": 690,
     "metadata": {},
     "output_type": "execute_result"
    }
   ],
   "source": [
    "model.summary()"
   ]
  },
  {
   "cell_type": "code",
   "execution_count": 856,
   "id": "aa40a7b2",
   "metadata": {},
   "outputs": [
    {
     "data": {
      "text/html": [
       "<div>\n",
       "<style scoped>\n",
       "    .dataframe tbody tr th:only-of-type {\n",
       "        vertical-align: middle;\n",
       "    }\n",
       "\n",
       "    .dataframe tbody tr th {\n",
       "        vertical-align: top;\n",
       "    }\n",
       "\n",
       "    .dataframe thead th {\n",
       "        text-align: right;\n",
       "    }\n",
       "</style>\n",
       "<table border=\"1\" class=\"dataframe\">\n",
       "  <thead>\n",
       "    <tr style=\"text-align: right;\">\n",
       "      <th></th>\n",
       "      <th>amount</th>\n",
       "    </tr>\n",
       "    <tr>\n",
       "      <th>ymd</th>\n",
       "      <th></th>\n",
       "    </tr>\n",
       "  </thead>\n",
       "  <tbody>\n",
       "    <tr>\n",
       "      <th>2020-01-01</th>\n",
       "      <td>600.0</td>\n",
       "    </tr>\n",
       "    <tr>\n",
       "      <th>2020-01-02</th>\n",
       "      <td>400.0</td>\n",
       "    </tr>\n",
       "    <tr>\n",
       "      <th>2020-01-03</th>\n",
       "      <td>400.0</td>\n",
       "    </tr>\n",
       "    <tr>\n",
       "      <th>2020-01-04</th>\n",
       "      <td>200.0</td>\n",
       "    </tr>\n",
       "    <tr>\n",
       "      <th>2020-01-05</th>\n",
       "      <td>500.0</td>\n",
       "    </tr>\n",
       "    <tr>\n",
       "      <th>...</th>\n",
       "      <td>...</td>\n",
       "    </tr>\n",
       "    <tr>\n",
       "      <th>2020-09-26</th>\n",
       "      <td>10422.0</td>\n",
       "    </tr>\n",
       "    <tr>\n",
       "      <th>2020-09-27</th>\n",
       "      <td>6785.0</td>\n",
       "    </tr>\n",
       "    <tr>\n",
       "      <th>2020-09-28</th>\n",
       "      <td>10450.0</td>\n",
       "    </tr>\n",
       "    <tr>\n",
       "      <th>2020-09-29</th>\n",
       "      <td>15920.0</td>\n",
       "    </tr>\n",
       "    <tr>\n",
       "      <th>2020-09-30</th>\n",
       "      <td>10600.0</td>\n",
       "    </tr>\n",
       "  </tbody>\n",
       "</table>\n",
       "<p>274 rows × 1 columns</p>\n",
       "</div>"
      ],
      "text/plain": [
       "             amount\n",
       "ymd                \n",
       "2020-01-01    600.0\n",
       "2020-01-02    400.0\n",
       "2020-01-03    400.0\n",
       "2020-01-04    200.0\n",
       "2020-01-05    500.0\n",
       "...             ...\n",
       "2020-09-26  10422.0\n",
       "2020-09-27   6785.0\n",
       "2020-09-28  10450.0\n",
       "2020-09-29  15920.0\n",
       "2020-09-30  10600.0\n",
       "\n",
       "[274 rows x 1 columns]"
      ]
     },
     "execution_count": 856,
     "metadata": {},
     "output_type": "execute_result"
    }
   ],
   "source": [
    "totalByDay"
   ]
  },
  {
   "cell_type": "code",
   "execution_count": 717,
   "id": "3295bc8c",
   "metadata": {},
   "outputs": [],
   "source": [
    "df_prophet=totalByDay\n",
    "df_prophet['ds']= pd.to_datetime(df_prophet.index)"
   ]
  },
  {
   "cell_type": "code",
   "execution_count": 730,
   "id": "05bad6cf",
   "metadata": {},
   "outputs": [],
   "source": [
    "df_prophet=df_prophet.rename(columns = {'amount':'y'})"
   ]
  },
  {
   "cell_type": "code",
   "execution_count": 731,
   "id": "78786c7d",
   "metadata": {},
   "outputs": [
    {
     "data": {
      "text/html": [
       "<div>\n",
       "<style scoped>\n",
       "    .dataframe tbody tr th:only-of-type {\n",
       "        vertical-align: middle;\n",
       "    }\n",
       "\n",
       "    .dataframe tbody tr th {\n",
       "        vertical-align: top;\n",
       "    }\n",
       "\n",
       "    .dataframe thead th {\n",
       "        text-align: right;\n",
       "    }\n",
       "</style>\n",
       "<table border=\"1\" class=\"dataframe\">\n",
       "  <thead>\n",
       "    <tr style=\"text-align: right;\">\n",
       "      <th></th>\n",
       "      <th>y</th>\n",
       "      <th>ds</th>\n",
       "    </tr>\n",
       "    <tr>\n",
       "      <th>ymd</th>\n",
       "      <th></th>\n",
       "      <th></th>\n",
       "    </tr>\n",
       "  </thead>\n",
       "  <tbody>\n",
       "    <tr>\n",
       "      <th>2019-12-09</th>\n",
       "      <td>100.0</td>\n",
       "      <td>2019-12-09</td>\n",
       "    </tr>\n",
       "    <tr>\n",
       "      <th>2019-12-10</th>\n",
       "      <td>1609.0</td>\n",
       "      <td>2019-12-10</td>\n",
       "    </tr>\n",
       "    <tr>\n",
       "      <th>2019-12-11</th>\n",
       "      <td>2200.0</td>\n",
       "      <td>2019-12-11</td>\n",
       "    </tr>\n",
       "    <tr>\n",
       "      <th>2019-12-12</th>\n",
       "      <td>2438.0</td>\n",
       "      <td>2019-12-12</td>\n",
       "    </tr>\n",
       "    <tr>\n",
       "      <th>2019-12-13</th>\n",
       "      <td>1900.0</td>\n",
       "      <td>2019-12-13</td>\n",
       "    </tr>\n",
       "    <tr>\n",
       "      <th>...</th>\n",
       "      <td>...</td>\n",
       "      <td>...</td>\n",
       "    </tr>\n",
       "    <tr>\n",
       "      <th>2020-09-26</th>\n",
       "      <td>10422.0</td>\n",
       "      <td>2020-09-26</td>\n",
       "    </tr>\n",
       "    <tr>\n",
       "      <th>2020-09-27</th>\n",
       "      <td>6785.0</td>\n",
       "      <td>2020-09-27</td>\n",
       "    </tr>\n",
       "    <tr>\n",
       "      <th>2020-09-28</th>\n",
       "      <td>10450.0</td>\n",
       "      <td>2020-09-28</td>\n",
       "    </tr>\n",
       "    <tr>\n",
       "      <th>2020-09-29</th>\n",
       "      <td>15920.0</td>\n",
       "      <td>2020-09-29</td>\n",
       "    </tr>\n",
       "    <tr>\n",
       "      <th>2020-09-30</th>\n",
       "      <td>10600.0</td>\n",
       "      <td>2020-09-30</td>\n",
       "    </tr>\n",
       "  </tbody>\n",
       "</table>\n",
       "<p>297 rows × 2 columns</p>\n",
       "</div>"
      ],
      "text/plain": [
       "                  y         ds\n",
       "ymd                           \n",
       "2019-12-09    100.0 2019-12-09\n",
       "2019-12-10   1609.0 2019-12-10\n",
       "2019-12-11   2200.0 2019-12-11\n",
       "2019-12-12   2438.0 2019-12-12\n",
       "2019-12-13   1900.0 2019-12-13\n",
       "...             ...        ...\n",
       "2020-09-26  10422.0 2020-09-26\n",
       "2020-09-27   6785.0 2020-09-27\n",
       "2020-09-28  10450.0 2020-09-28\n",
       "2020-09-29  15920.0 2020-09-29\n",
       "2020-09-30  10600.0 2020-09-30\n",
       "\n",
       "[297 rows x 2 columns]"
      ]
     },
     "execution_count": 731,
     "metadata": {},
     "output_type": "execute_result"
    }
   ],
   "source": [
    "df_prophet"
   ]
  },
  {
   "cell_type": "code",
   "execution_count": 983,
   "id": "1df1edbe",
   "metadata": {},
   "outputs": [
    {
     "name": "stderr",
     "output_type": "stream",
     "text": [
      "INFO:prophet:Disabling yearly seasonality. Run prophet with yearly_seasonality=True to override this.\n",
      "INFO:prophet:Disabling daily seasonality. Run prophet with daily_seasonality=True to override this.\n"
     ]
    },
    {
     "data": {
      "text/plain": [
       "<prophet.forecaster.Prophet at 0x12997df70>"
      ]
     },
     "execution_count": 983,
     "metadata": {},
     "output_type": "execute_result"
    }
   ],
   "source": [
    "from prophet import Prophet\n",
    "model = Prophet()\n",
    "# fit the model\n",
    "model.fit(df_prophet)"
   ]
  },
  {
   "cell_type": "code",
   "execution_count": 742,
   "id": "fabbf256",
   "metadata": {},
   "outputs": [
    {
     "data": {
      "text/html": [
       "<div>\n",
       "<style scoped>\n",
       "    .dataframe tbody tr th:only-of-type {\n",
       "        vertical-align: middle;\n",
       "    }\n",
       "\n",
       "    .dataframe tbody tr th {\n",
       "        vertical-align: top;\n",
       "    }\n",
       "\n",
       "    .dataframe thead th {\n",
       "        text-align: right;\n",
       "    }\n",
       "</style>\n",
       "<table border=\"1\" class=\"dataframe\">\n",
       "  <thead>\n",
       "    <tr style=\"text-align: right;\">\n",
       "      <th></th>\n",
       "      <th>ds</th>\n",
       "    </tr>\n",
       "  </thead>\n",
       "  <tbody>\n",
       "    <tr>\n",
       "      <th>323</th>\n",
       "      <td>2020-10-27</td>\n",
       "    </tr>\n",
       "    <tr>\n",
       "      <th>324</th>\n",
       "      <td>2020-10-28</td>\n",
       "    </tr>\n",
       "    <tr>\n",
       "      <th>325</th>\n",
       "      <td>2020-10-29</td>\n",
       "    </tr>\n",
       "    <tr>\n",
       "      <th>326</th>\n",
       "      <td>2020-10-30</td>\n",
       "    </tr>\n",
       "    <tr>\n",
       "      <th>327</th>\n",
       "      <td>2020-10-31</td>\n",
       "    </tr>\n",
       "  </tbody>\n",
       "</table>\n",
       "</div>"
      ],
      "text/plain": [
       "            ds\n",
       "323 2020-10-27\n",
       "324 2020-10-28\n",
       "325 2020-10-29\n",
       "326 2020-10-30\n",
       "327 2020-10-31"
      ]
     },
     "execution_count": 742,
     "metadata": {},
     "output_type": "execute_result"
    }
   ],
   "source": [
    "future = model.make_future_dataframe(periods=31)\n",
    "future.tail()"
   ]
  },
  {
   "cell_type": "code",
   "execution_count": 744,
   "id": "58380290",
   "metadata": {},
   "outputs": [
    {
     "data": {
      "text/html": [
       "<div>\n",
       "<style scoped>\n",
       "    .dataframe tbody tr th:only-of-type {\n",
       "        vertical-align: middle;\n",
       "    }\n",
       "\n",
       "    .dataframe tbody tr th {\n",
       "        vertical-align: top;\n",
       "    }\n",
       "\n",
       "    .dataframe thead th {\n",
       "        text-align: right;\n",
       "    }\n",
       "</style>\n",
       "<table border=\"1\" class=\"dataframe\">\n",
       "  <thead>\n",
       "    <tr style=\"text-align: right;\">\n",
       "      <th></th>\n",
       "      <th>ds</th>\n",
       "      <th>yhat</th>\n",
       "      <th>yhat_lower</th>\n",
       "      <th>yhat_upper</th>\n",
       "    </tr>\n",
       "  </thead>\n",
       "  <tbody>\n",
       "    <tr>\n",
       "      <th>323</th>\n",
       "      <td>2020-10-27</td>\n",
       "      <td>14783.619199</td>\n",
       "      <td>11215.871768</td>\n",
       "      <td>18701.772860</td>\n",
       "    </tr>\n",
       "    <tr>\n",
       "      <th>324</th>\n",
       "      <td>2020-10-28</td>\n",
       "      <td>14888.475977</td>\n",
       "      <td>11080.013876</td>\n",
       "      <td>18588.929660</td>\n",
       "    </tr>\n",
       "    <tr>\n",
       "      <th>325</th>\n",
       "      <td>2020-10-29</td>\n",
       "      <td>14428.383431</td>\n",
       "      <td>10594.368276</td>\n",
       "      <td>17881.535386</td>\n",
       "    </tr>\n",
       "    <tr>\n",
       "      <th>326</th>\n",
       "      <td>2020-10-30</td>\n",
       "      <td>14188.900743</td>\n",
       "      <td>10482.693923</td>\n",
       "      <td>17655.582605</td>\n",
       "    </tr>\n",
       "    <tr>\n",
       "      <th>327</th>\n",
       "      <td>2020-10-31</td>\n",
       "      <td>12709.422975</td>\n",
       "      <td>9169.402310</td>\n",
       "      <td>16241.707162</td>\n",
       "    </tr>\n",
       "  </tbody>\n",
       "</table>\n",
       "</div>"
      ],
      "text/plain": [
       "            ds          yhat    yhat_lower    yhat_upper\n",
       "323 2020-10-27  14783.619199  11215.871768  18701.772860\n",
       "324 2020-10-28  14888.475977  11080.013876  18588.929660\n",
       "325 2020-10-29  14428.383431  10594.368276  17881.535386\n",
       "326 2020-10-30  14188.900743  10482.693923  17655.582605\n",
       "327 2020-10-31  12709.422975   9169.402310  16241.707162"
      ]
     },
     "execution_count": 744,
     "metadata": {},
     "output_type": "execute_result"
    }
   ],
   "source": [
    "forecast = model.predict(future)\n",
    "forecast[['ds', 'yhat', 'yhat_lower', 'yhat_upper']].tail()"
   ]
  },
  {
   "cell_type": "code",
   "execution_count": 746,
   "id": "f20807d5",
   "metadata": {},
   "outputs": [
    {
     "data": {
      "image/png": "[encoded data removed]",
      "text/plain": [
       "<Figure size 720x432 with 1 Axes>"
      ]
     },
     "metadata": {},
     "output_type": "display_data"
    }
   ],
   "source": [
    "fig1 = model.plot(forecast)"
   ]
  },
  {
   "cell_type": "code",
   "execution_count": 748,
   "id": "f771cd48",
   "metadata": {},
   "outputs": [
    {
     "data": {
      "image/png": "[encoded data removed]",
      "text/plain": [
       "<Figure size 648x432 with 2 Axes>"
      ]
     },
     "metadata": {},
     "output_type": "display_data"
    }
   ],
   "source": [
    "fig2 = model.plot_components(forecast)\n"
   ]
  },
  {
   "cell_type": "code",
   "execution_count": 988,
   "id": "9143687d",
   "metadata": {},
   "outputs": [
    {
     "data": {
      "text/plain": [
       "404278.0224984956"
      ]
     },
     "execution_count": 988,
     "metadata": {},
     "output_type": "execute_result"
    }
   ],
   "source": [
    "forecast.tail(31)['yhat'].sum()"
   ]
  }
 ],
 "metadata": {
  "kernelspec": {
   "display_name": "Python 3",
   "language": "python",
   "name": "python3"
  },
  "language_info": {
   "codemirror_mode": {
    "name": "ipython",
    "version": 3
   },
   "file_extension": ".py",
   "mimetype": "text/x-python",
   "name": "python",
   "nbconvert_exporter": "python",
   "pygments_lexer": "ipython3",
   "version": "3.8.8"
  },
  "toc": {
   "base_numbering": 1,
   "nav_menu": {},
   "number_sections": true,
   "sideBar": true,
   "skip_h1_title": false,
   "title_cell": "Table of Contents",
   "title_sidebar": "Contents",
   "toc_cell": false,
   "toc_position": {
    "height": "calc(100% - 180px)",
    "left": "10px",
    "top": "150px",
    "width": "305.455px"
   },
   "toc_section_display": true,
   "toc_window_display": true
  },
  "varInspector": {
   "cols": {
    "lenName": 16,
    "lenType": 16,
    "lenVar": 40
   },
   "kernels_config": {
    "python": {
     "delete_cmd_postfix": "",
     "delete_cmd_prefix": "del ",
     "library": "var_list.py",
     "varRefreshCmd": "print(var_dic_list())"
    },
    "r": {
     "delete_cmd_postfix": ") ",
     "delete_cmd_prefix": "rm(",
     "library": "var_list.r",
     "varRefreshCmd": "cat(var_dic_list()) "
    }
   },
   "types_to_exclude": [
    "module",
    "function",
    "builtin_function_or_method",
    "instance",
    "_Feature"
   ],
   "window_display": false
  }
 },
 "nbformat": 4,
 "nbformat_minor": 5
}
